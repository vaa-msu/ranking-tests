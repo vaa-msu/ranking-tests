{
 "cells": [
  {
   "cell_type": "markdown",
   "metadata": {},
   "source": [
    "# Поведение реализаций эвристического алгоритма"
   ]
  },
  {
   "cell_type": "markdown",
   "metadata": {},
   "source": [
    "На нескольких примерах анализируются результаты работы трёх реализаций эвристического алгоритма: `Heuristicterations()`, `Heuristicterations!()` и `RecursiveIteration!()`."
   ]
  },
  {
   "cell_type": "markdown",
   "metadata": {},
   "source": [
    "> Исправлены ошибки в реализации функции `OptimizeRanking!()`. Во-первых,\n",
    "для перестановки элементов в векторе альтернатив стоит проверять не очередные\n",
    "значения в _преобразованной_ матрице потерь (`R[k,k+1] > R[k+1,k]`), а значения, определяемые\n",
    "текущим ранжированием альтернатив (`R[P[k],P[k+1]] > R[P[k+1],P[k]]`), тогда вторым\n",
    "параметром функции можно будет передавать не преобразованную, а исходную матрицу,\n",
    "во-вторых, при перестановке надо делать дополнительный «шаг» (`k -= 1`), чтобы\n",
    "избежать нарушения только что переставленной пары.\n",
    "\n",
    "> Эти изменения позволили добиться здравых результатов при переходе к истинной\n",
    "медиане Кемени от получаемых в процессе итераций эвристического алгоритма\n",
    "приближений к ней. При этом оказалось, что «оптимизация» последовательности --\n",
    "не одношаговая процедура, её имеет смысл повторять снова и снова -- вплоть\n",
    "до получения «стабильной» последовательности, не изменяющейся далее в результате\n",
    "«оптимизации».\n",
    "\n",
    "> Теперь (для наглядности) получаемая рекурсивным вариантом последовательность (ранжирование)\n",
    "сопровождается вычисляемой суммой наддиагональных элементов матрицы потерь при\n",
    "применении к ней перестановок строк/стобцов в соответствии с ранжированием,\n",
    "что позволяет убедиться, что шаги «оптимизации» происходят в «правильном» направлении."
   ]
  },
  {
   "cell_type": "code",
   "execution_count": 1,
   "metadata": {},
   "outputs": [
    {
     "data": {
      "text/plain": [
       "RecursiveIteration! (generic function with 2 methods)"
      ]
     },
     "execution_count": 1,
     "metadata": {},
     "output_type": "execute_result"
    }
   ],
   "source": [
    "include(\"RecursiveIterations.jl\")"
   ]
  },
  {
   "cell_type": "markdown",
   "metadata": {},
   "source": [
    "## Пример 1"
   ]
  },
  {
   "cell_type": "markdown",
   "metadata": {},
   "source": [
    "«Облегчённая» матрица потерь для примера, часто используемого при иллюстрации парадокса Кондорсе."
   ]
  },
  {
   "cell_type": "code",
   "execution_count": 2,
   "metadata": {},
   "outputs": [
    {
     "data": {
      "text/plain": [
       "3×3 Array{Int32,2}:\n",
       "  0   1  -1\n",
       " -1   0   1\n",
       "  1  -1   0"
      ]
     },
     "execution_count": 2,
     "metadata": {},
     "output_type": "execute_result"
    }
   ],
   "source": [
    "LCP = [0 1 -1; -1 0 1; 1 -1 0]"
   ]
  },
  {
   "cell_type": "code",
   "execution_count": 3,
   "metadata": {},
   "outputs": [
    {
     "name": "stdout",
     "output_type": "stream",
     "text": [
      "[1, 3, 2]"
     ]
    }
   ],
   "source": [
    "print(HeuristicIterations(LCP))"
   ]
  },
  {
   "cell_type": "code",
   "execution_count": 4,
   "metadata": {},
   "outputs": [
    {
     "data": {
      "text/plain": [
       "3×3 Array{Int32,2}:\n",
       "  0  -1   1\n",
       "  1   0  -1\n",
       " -1   1   0"
      ]
     },
     "execution_count": 4,
     "metadata": {},
     "output_type": "execute_result"
    }
   ],
   "source": [
    "ReOrder(LCP,[1,3,2])"
   ]
  },
  {
   "cell_type": "code",
   "execution_count": 5,
   "metadata": {},
   "outputs": [
    {
     "name": "stdout",
     "output_type": "stream",
     "text": [
      "[1, 3, 2]"
     ]
    }
   ],
   "source": [
    "print(OptimizeRanking!([1,3,2],LCP))"
   ]
  },
  {
   "cell_type": "markdown",
   "metadata": {},
   "source": [
    "Традиционная реализация эвристического алгоритма находит одно из оптимальных ранжирований, рекурсивный вариант обнаруживает все три."
   ]
  },
  {
   "cell_type": "code",
   "execution_count": 6,
   "metadata": {},
   "outputs": [
    {
     "name": "stdout",
     "output_type": "stream",
     "text": [
      "[1, 3, 2] : -1\n",
      "\n",
      "[2, 1, 3] : -1\n",
      "\n",
      "[3, 2, 1] : -1\n",
      "\n"
     ]
    }
   ],
   "source": [
    "R = copy(LCP); RecursiveIteration!(R)"
   ]
  },
  {
   "cell_type": "markdown",
   "metadata": {},
   "source": [
    "## Пример 2"
   ]
  },
  {
   "cell_type": "markdown",
   "metadata": {},
   "source": [
    "Пример из книги Б.Литвака (стр.83)."
   ]
  },
  {
   "cell_type": "code",
   "execution_count": 7,
   "metadata": {},
   "outputs": [
    {
     "data": {
      "text/plain": [
       "4×4 Array{Int32,2}:\n",
       "  0   2  0   1\n",
       " -2   0  1  -2\n",
       "  0  -1  0  -1\n",
       " -1   2  1   0"
      ]
     },
     "execution_count": 7,
     "metadata": {},
     "output_type": "execute_result"
    }
   ],
   "source": [
    "LL83 = [0 2 0 1; -2 0 1 -2; 0 -1 0 -1; -1 2 1 0]"
   ]
  },
  {
   "cell_type": "code",
   "execution_count": 8,
   "metadata": {},
   "outputs": [
    {
     "name": "stdout",
     "output_type": "stream",
     "text": [
      "[2, 3, 4, 1]"
     ]
    }
   ],
   "source": [
    "print(HeuristicIterations(LL83))"
   ]
  },
  {
   "cell_type": "code",
   "execution_count": 9,
   "metadata": {},
   "outputs": [
    {
     "data": {
      "text/plain": [
       "4×4 Array{Int32,2}:\n",
       "  0  1  -2  -2\n",
       " -1  0  -1   0\n",
       "  2  1   0  -1\n",
       "  2  0   1   0"
      ]
     },
     "execution_count": 9,
     "metadata": {},
     "output_type": "execute_result"
    }
   ],
   "source": [
    "ReOrder(LL83,[2, 3, 4, 1])"
   ]
  },
  {
   "cell_type": "code",
   "execution_count": 10,
   "metadata": {
    "scrolled": true
   },
   "outputs": [
    {
     "name": "stdout",
     "output_type": "stream",
     "text": [
      "[3, 2, 4, 1]"
     ]
    }
   ],
   "source": [
    "print(OptimizeRanking!([2, 3, 4, 1],LL83))"
   ]
  },
  {
   "cell_type": "code",
   "execution_count": 11,
   "metadata": {},
   "outputs": [
    {
     "name": "stdout",
     "output_type": "stream",
     "text": [
      "[2, 3, 4, 1] : -5 -> [3, 2, 4, 1] : -7\n",
      "\n"
     ]
    }
   ],
   "source": [
    "R = copy(LL83); RecursiveIteration!(R)"
   ]
  },
  {
   "cell_type": "code",
   "execution_count": 12,
   "metadata": {},
   "outputs": [
    {
     "data": {
      "text/plain": [
       "4×4 Array{Int32,2}:\n",
       " 0  -1  -1   0\n",
       " 1   0  -2  -2\n",
       " 1   2   0  -1\n",
       " 0   2   1   0"
      ]
     },
     "execution_count": 12,
     "metadata": {},
     "output_type": "execute_result"
    }
   ],
   "source": [
    "ReOrder(LL83,[3, 2, 4, 1])"
   ]
  },
  {
   "cell_type": "markdown",
   "metadata": {},
   "source": [
    "## Пример 3"
   ]
  },
  {
   "cell_type": "markdown",
   "metadata": {},
   "source": [
    "Пример «облегчённой» матрицы потерь, для которой не находится оптимальное ранжирование (даже после оптимизационного шага)."
   ]
  },
  {
   "cell_type": "code",
   "execution_count": 13,
   "metadata": {},
   "outputs": [
    {
     "data": {
      "text/plain": [
       "10×10 Array{Int32,2}:\n",
       "  0  -3  -3   1  -1  -3  -1  -3  -1  -3\n",
       "  3   0   5   3   3   1   1   5   1   1\n",
       "  3  -5   0   3  -1  -1   1  -1  -3  -3\n",
       " -1  -3  -3   0  -3  -1   1  -3  -3  -3\n",
       "  1  -3   1   3   0   1   1   1  -1  -1\n",
       "  3  -1   1   1  -1   0   1   1  -1  -1\n",
       "  1  -1  -1  -1  -1  -1   0  -1   1  -1\n",
       "  3  -5   1   3  -1  -1   1   0  -1  -1\n",
       "  1  -1   3   3   1   1  -1   1   0   1\n",
       "  3  -1   3   3   1   1   1   1  -1   0"
      ]
     },
     "execution_count": 13,
     "metadata": {},
     "output_type": "execute_result"
    }
   ],
   "source": [
    "LMT = [0 -3 -3 1 -1 -3 -1 -3 -1 -3; 3 0 5 3 3 1 1 5 1 1; 3 -5 0 3 -1 -1 1 -1 -3 -3; -1 -3 -3 0 -3 -1 1 -3 -3 -3; 1 -3 1 3 0 1 1 1 -1 -1; 3 -1 1 1 -1 0 1 1 -1 -1; 1 -1 -1 -1 -1 -1 0 -1 1 -1; 3 -5 1 3 -1 -1 1 0 -1 -1; 1 -1 3 3 1 1 -1 1 0 1; 3 -1 3 3 1 1 1 1 -1 0]"
   ]
  },
  {
   "cell_type": "code",
   "execution_count": 14,
   "metadata": {},
   "outputs": [
    {
     "name": "stdout",
     "output_type": "stream",
     "text": [
      "[4, 1, 3, 8, 5, 6, 7, 10, 9, 2]"
     ]
    }
   ],
   "source": [
    "print(HeuristicIterations(LMT))"
   ]
  },
  {
   "cell_type": "code",
   "execution_count": 15,
   "metadata": {},
   "outputs": [
    {
     "data": {
      "text/plain": [
       "10×10 Array{Int32,2}:\n",
       "  0  -1  -3  -3  -3  -1   1  -3  -3  -3\n",
       "  1   0  -3  -3  -1  -3  -1  -3  -1  -3\n",
       "  3   3   0  -1  -1  -1   1  -3  -3  -5\n",
       "  3   3   1   0  -1  -1   1  -1  -1  -5\n",
       "  3   1   1   1   0   1   1  -1  -1  -3\n",
       "  1   3   1   1  -1   0   1  -1  -1  -1\n",
       " -1   1  -1  -1  -1  -1   0  -1   1  -1\n",
       "  3   3   3   1   1   1   1   0  -1  -1\n",
       "  3   1   3   1   1   1  -1   1   0  -1\n",
       "  3   3   5   5   3   1   1   1   1   0"
      ]
     },
     "execution_count": 15,
     "metadata": {},
     "output_type": "execute_result"
    }
   ],
   "source": [
    "ReOrder(LMT,[4, 1, 3, 8, 5, 6, 7, 10, 9, 2])"
   ]
  },
  {
   "cell_type": "code",
   "execution_count": 16,
   "metadata": {},
   "outputs": [
    {
     "data": {
      "text/plain": [
       "-67"
      ]
     },
     "execution_count": 16,
     "metadata": {},
     "output_type": "execute_result"
    }
   ],
   "source": [
    "UpperSum(ReOrder(LMT,[4, 1, 3, 8, 5, 6, 7, 10, 9, 2]))"
   ]
  },
  {
   "cell_type": "code",
   "execution_count": 17,
   "metadata": {},
   "outputs": [
    {
     "name": "stdout",
     "output_type": "stream",
     "text": [
      "[4, 1, 3, 8, 5, 7, 6, 10, 9, 2]"
     ]
    }
   ],
   "source": [
    "print(OptimizeRanking!([4, 1, 3, 8, 5, 6, 7, 10, 9, 2],LMT))"
   ]
  },
  {
   "cell_type": "code",
   "execution_count": 18,
   "metadata": {},
   "outputs": [
    {
     "data": {
      "text/plain": [
       "-69"
      ]
     },
     "execution_count": 18,
     "metadata": {},
     "output_type": "execute_result"
    }
   ],
   "source": [
    "UpperSum(ReOrder(LMT,[4, 1, 3, 8, 5, 7, 6, 10, 9, 2]))"
   ]
  },
  {
   "cell_type": "markdown",
   "metadata": {},
   "source": [
    "Рекурсивный вариант возвращает несколько ранжирований, но не все из них оптимизируются. Те, что достигли оптимального, просто совпадают."
   ]
  },
  {
   "cell_type": "code",
   "execution_count": 19,
   "metadata": {},
   "outputs": [
    {
     "name": "stdout",
     "output_type": "stream",
     "text": [
      "[4, 1, 3, 8, 5, 6, 7, 10, 9, 2] : -67 -> [4, 1, 3, 8, 5, 7, 6, 10, 9, 2] : -69 -> [4, 1, 3, 8, 7, 5, 6, 10, 9, 2] : -71 -> [4, 1, 3, 7, 8, 6, 5, 10, 9, 2] : -75 -> [4, 1, 7, 3, 8, 6, 5, 10, 9, 2] : -77\n",
      "\n",
      "[4, 1, 3, 8, 5, 6, 9, 7, 10, 2] : -67 -> [4, 1, 3, 8, 6, 5, 9, 7, 10, 2] : -69\n",
      "\n",
      "[4, 1, 3, 8, 5, 6, 10, 9, 7, 2] : -67 -> [4, 1, 3, 8, 6, 5, 10, 9, 7, 2] : -69\n",
      "\n",
      "[4, 1, 3, 8, 5, 7, 6, 10, 9, 2] : -69 -> [4, 1, 3, 8, 7, 5, 6, 10, 9, 2] : -71 -> [4, 1, 3, 7, 8, 6, 5, 10, 9, 2] : -75 -> [4, 1, 7, 3, 8, 6, 5, 10, 9, 2] : -77\n",
      "\n",
      "[4, 1, 3, 8, 6, 5, 7, 10, 9, 2] : -69 -> [4, 1, 3, 8, 6, 7, 5, 10, 9, 2] : -71 -> [4, 1, 3, 8, 7, 6, 5, 10, 9, 2] : -73 -> [4, 1, 3, 7, 8, 6, 5, 10, 9, 2] : -75 -> [4, 1, 7, 3, 8, 6, 5, 10, 9, 2] : -77\n",
      "\n",
      "[4, 1, 3, 8, 6, 5, 9, 7, 10, 2] : -69\n",
      "\n",
      "[4, 1, 3, 8, 6, 5, 10, 9, 7, 2] : -69\n",
      "\n",
      "[4, 1, 3, 8, 7, 5, 6, 10, 9, 2] : -71 -> [4, 1, 3, 7, 8, 6, 5, 10, 9, 2] : -75 -> [4, 1, 7, 3, 8, 6, 5, 10, 9, 2] : -77\n",
      "\n",
      "[4, 1, 3, 8, 7, 6, 5, 10, 9, 2] : -73 -> [4, 1, 3, 7, 8, 6, 5, 10, 9, 2] : -75 -> [4, 1, 7, 3, 8, 6, 5, 10, 9, 2] : -77\n",
      "\n"
     ]
    }
   ],
   "source": [
    "R = copy(LMT); RecursiveIteration!(R)"
   ]
  },
  {
   "cell_type": "markdown",
   "metadata": {},
   "source": [
    "Оптимальное ранжирование оставляет в нижнем треугольнике всего два отрицательных значения:"
   ]
  },
  {
   "cell_type": "code",
   "execution_count": 20,
   "metadata": {},
   "outputs": [
    {
     "data": {
      "text/plain": [
       "10×10 Array{Int32,2}:\n",
       "  0  -1   1  -3  -3  -1  -3  -3  -3  -3\n",
       "  1   0  -1  -3  -3  -3  -1  -3  -1  -3\n",
       " -1   1   0  -1  -1  -1  -1  -1   1  -1\n",
       "  3   3   1   0  -1  -1  -1  -3  -3  -5\n",
       "  3   3   1   1   0  -1  -1  -1  -1  -5\n",
       "  1   3   1   1   1   0  -1  -1  -1  -1\n",
       "  3   1   1   1   1   1   0  -1  -1  -3\n",
       "  3   3   1   3   1   1   1   0  -1  -1\n",
       "  3   1  -1   3   1   1   1   1   0  -1\n",
       "  3   3   1   5   5   1   3   1   1   0"
      ]
     },
     "execution_count": 20,
     "metadata": {},
     "output_type": "execute_result"
    }
   ],
   "source": [
    "ReOrder(LMT,[4, 1, 7, 3, 8, 6, 5, 10, 9, 2])"
   ]
  },
  {
   "cell_type": "markdown",
   "metadata": {},
   "source": [
    "Верификация полученных результатов была сделана кодом с прямым перебором всех вариантов перестановок. Для его работы надо установить пакет `Combinatorics`. Функция `FindMinima()` по заданной матрице вычисляет суммы её наддиагональных элементов при различных одновременных перестановках строк/столбцов и выводит перестановку и соответствующую сумму тогда, когда\n",
    "эта сумма не превышает задаваемую необязательным параметром величину (по умолчанию -- нулевую, поскольку предполагалось применять её к «облегчённым» матрицам потерь). Функция просто содержит цикл, в котором перебираются все возможные\n",
    "перестановки, формируемые вызовом функции `nthperm!()` из пакета `Combinatorics` по тождественной перестановке (которая создаётся всякий раз с помощью `Vector(1:W)`) и условному номеру перестановки. Для каждой из получаемых перестановок формируется преобразованная матрица и подсчитывается сумма её наддиагональных элементов. Если сумма не превышает `MinVal`, перестановка и сумма выводятся. Понятно, что задавать величину `MinVal` имеет смысл как можно более близкой к предполагаемому минимальному значению, иначе вывод будет слишком длинным (и долгим). Предельный размер матриц, обрабатываемых функцией, ограничен максимально возможной величиной факториала для функции `factorial()` и равен $20 \\times 20$."
   ]
  },
  {
   "cell_type": "code",
   "execution_count": 21,
   "metadata": {},
   "outputs": [
    {
     "data": {
      "text/plain": [
       "FindMinima (generic function with 2 methods)"
      ]
     },
     "execution_count": 21,
     "metadata": {},
     "output_type": "execute_result"
    }
   ],
   "source": [
    "using Combinatorics\n",
    "\n",
    "function FindMinima(ScoreMatrix::Matrix{Int}, MinVal::Int=0)\n",
    "    (H,W) = size(ScoreMatrix)\n",
    "    @assert W == H\n",
    "    TestLength = factorial(W)\n",
    "    for K = 1:TestLength\n",
    "        Permutation = Vector(1:W)\n",
    "        nthperm!(Permutation,K)\n",
    "        USum = UpperSum(ReOrder(ScoreMatrix,Permutation))\n",
    "        USum <= MinVal && println(\"$Permutation : $USum\")\n",
    "    end\n",
    "end"
   ]
  },
  {
   "cell_type": "markdown",
   "metadata": {},
   "source": [
    "Вызов этой функции для «облегчённой» матрицы потерь `LMT` показывает наличие трёх минимальных значений, отличающихся циклической перестановкой трёх начальных индексов."
   ]
  },
  {
   "cell_type": "code",
   "execution_count": 22,
   "metadata": {},
   "outputs": [
    {
     "name": "stdout",
     "output_type": "stream",
     "text": [
      "[1, 4, 7, 3, 8, 6, 5, 10, 9, 2] : -75\n",
      "[1, 7, 4, 3, 6, 8, 5, 10, 9, 2] : -75\n",
      "[1, 7, 4, 3, 8, 5, 6, 10, 9, 2] : -75\n",
      "[1, 7, 4, 3, 8, 6, 5, 9, 10, 2] : -75\n",
      "[1, 7, 4, 3, 8, 6, 5, 10, 2, 9] : -75\n",
      "[1, 7, 4, 3, 8, 6, 5, 10, 9, 2] : -77\n",
      "[1, 7, 4, 3, 8, 6, 10, 5, 9, 2] : -75\n",
      "[1, 7, 4, 8, 3, 6, 5, 10, 9, 2] : -75\n",
      "[4, 1, 3, 7, 8, 6, 5, 10, 9, 2] : -75\n",
      "[4, 1, 7, 3, 6, 8, 5, 10, 9, 2] : -75\n",
      "[4, 1, 7, 3, 8, 5, 6, 10, 9, 2] : -75\n",
      "[4, 1, 7, 3, 8, 6, 5, 9, 10, 2] : -75\n",
      "[4, 1, 7, 3, 8, 6, 5, 10, 2, 9] : -75\n",
      "[4, 1, 7, 3, 8, 6, 5, 10, 9, 2] : -77\n",
      "[4, 1, 7, 3, 8, 6, 10, 5, 9, 2] : -75\n",
      "[4, 1, 7, 8, 3, 6, 5, 10, 9, 2] : -75\n",
      "[4, 7, 1, 3, 8, 6, 5, 10, 9, 2] : -75\n",
      "[7, 1, 4, 3, 8, 6, 5, 10, 9, 2] : -75\n",
      "[7, 4, 1, 3, 6, 8, 5, 10, 9, 2] : -75\n",
      "[7, 4, 1, 3, 8, 5, 6, 10, 9, 2] : -75\n",
      "[7, 4, 1, 3, 8, 6, 5, 9, 10, 2] : -75\n",
      "[7, 4, 1, 3, 8, 6, 5, 10, 2, 9] : -75\n",
      "[7, 4, 1, 3, 8, 6, 5, 10, 9, 2] : -77\n",
      "[7, 4, 1, 3, 8, 6, 10, 5, 9, 2] : -75\n",
      "[7, 4, 1, 8, 3, 6, 5, 10, 9, 2] : -75\n"
     ]
    }
   ],
   "source": [
    "FindMinima(LMT,-75)"
   ]
  },
  {
   "cell_type": "markdown",
   "metadata": {},
   "source": [
    "Таким образом, два из трёх минимальных значений рекурсивным вариантом эвристического алгоритма не обнаруживаются."
   ]
  },
  {
   "cell_type": "markdown",
   "metadata": {},
   "source": [
    "## Пример 4"
   ]
  },
  {
   "cell_type": "code",
   "execution_count": 23,
   "metadata": {},
   "outputs": [
    {
     "data": {
      "text/plain": [
       "7×7 Array{Int32,2}:\n",
       "  0  -3   1  -1  -1  -3   1\n",
       "  3   0  -1  -1   1  -1  -1\n",
       " -1   1   0  -1   1  -1   5\n",
       "  1   1   1   0  -3  -5  -1\n",
       "  1  -1  -1   3   0  -5   1\n",
       "  3   1   1   5   5   0   5\n",
       " -1   1  -5   1  -1  -5   0"
      ]
     },
     "execution_count": 23,
     "metadata": {},
     "output_type": "execute_result"
    }
   ],
   "source": [
    "LBW245 = [0 -3 1 -1 -1 -3 1; 3 0 -1 -1 1 -1 -1; -1 1 0 -1 1 -1 5; 1 1 1 0 -3 -5 -1; 1 -1 -1 3 0 -5 1; 3 1 1 5 5 0 5; -1 1 -5 1 -1 -5 0]"
   ]
  },
  {
   "cell_type": "markdown",
   "metadata": {},
   "source": [
    "Эвристический алгоритм Литвака (как и его рекурсивный вариант) здесь не работает -- по той простой причине, что анализ строки с минимальной суммой сразу «уводит» поиск в «другом» направлении: «лидирующей» строкой становится седьмая, а не первая. Получаемое ранжирование (в смысле расстояния от истинного минимума) весьма близко, но не преобразуется функцией «оптимизации» далее и остаётся неизменным по причине излишней близости к значению истинного минимума, а «лишние» минус единицы в «облегчённой» матрице потерь, одну из которых было бы хорошо обменять на единицу, стоят далеко от главной диагонали и не могут подвергнуться «изолированной» перестановке в процессе «оптимизации»."
   ]
  },
  {
   "cell_type": "code",
   "execution_count": 24,
   "metadata": {},
   "outputs": [
    {
     "name": "stdout",
     "output_type": "stream",
     "text": [
      "[7, 1, 4, 5, 2, 3, 6]"
     ]
    }
   ],
   "source": [
    "print(HeuristicIterations(LBW245))"
   ]
  },
  {
   "cell_type": "code",
   "execution_count": 25,
   "metadata": {},
   "outputs": [
    {
     "name": "stdout",
     "output_type": "stream",
     "text": [
      "[7, 1, 4, 5, 2, 3, 6]"
     ]
    }
   ],
   "source": [
    "print(OptimizeRanking!([7,1,4,5,2,3,6],LBW245))"
   ]
  },
  {
   "cell_type": "code",
   "execution_count": 26,
   "metadata": {},
   "outputs": [
    {
     "name": "stdout",
     "output_type": "stream",
     "text": [
      "[7, 1, 4, 5, 2, 3, 6]"
     ]
    }
   ],
   "source": [
    "R = copy(LBW245); print(HeuristicIterations!(R))"
   ]
  },
  {
   "cell_type": "code",
   "execution_count": 27,
   "metadata": {},
   "outputs": [
    {
     "data": {
      "text/plain": [
       "7×7 Array{Int32,2}:\n",
       "  0  -1   1  -1   1  -5  -5\n",
       "  1   0  -1  -1  -3   1  -3\n",
       " -1   1   0  -3   1   1  -5\n",
       "  1   1   3   0  -1  -1  -5\n",
       " -1   3  -1   1   0  -1  -1\n",
       "  5  -1  -1   1   1   0  -1\n",
       "  5   3   5   5   1   1   0"
      ]
     },
     "execution_count": 27,
     "metadata": {},
     "output_type": "execute_result"
    }
   ],
   "source": [
    "ReOrder(LBW245,[7, 1, 4, 5, 2, 3, 6])"
   ]
  },
  {
   "cell_type": "code",
   "execution_count": 28,
   "metadata": {},
   "outputs": [
    {
     "name": "stdout",
     "output_type": "stream",
     "text": [
      "[7, 1, 4, 5, 2, 3, 6] : -33\n",
      "\n"
     ]
    }
   ],
   "source": [
    "RecursiveIteration!(LBW245)"
   ]
  },
  {
   "cell_type": "markdown",
   "metadata": {},
   "source": [
    "Таким образом, все функции: `Heuristicterations()`, `Heuristicterations!()`, `RecursiveIteration!()` -- возвращают ранжирование `7,1,4,5,2,3,6`, причём его «оптимизация» не приводит к другому ранжированию. Однако, легко вычислить сумму наддиагональных элементов преобразованной с его помощью матрицы потерь, она будет равна -33. При этом ранжирование `1,2,4,7,5,3,6` даёт сумму наддиагональных элементов -35!\n",
    "\n",
    "Истинное оптимальное (и не найденное) ранжирование:"
   ]
  },
  {
   "cell_type": "code",
   "execution_count": 29,
   "metadata": {},
   "outputs": [
    {
     "data": {
      "text/plain": [
       "-35"
      ]
     },
     "execution_count": 29,
     "metadata": {},
     "output_type": "execute_result"
    }
   ],
   "source": [
    "UpperSum(ReOrder(LBW245,[1,2,4,7,5,3,6]))"
   ]
  },
  {
   "cell_type": "code",
   "execution_count": 32,
   "metadata": {},
   "outputs": [
    {
     "data": {
      "text/plain": [
       "7×7 Array{Int32,2}:\n",
       "  0  -3  -1   1  -1   1  -3\n",
       "  3   0  -1  -1   1  -1  -1\n",
       "  1   1   0  -1  -3   1  -5\n",
       " -1   1   1   0  -1  -5  -5\n",
       "  1  -1   3   1   0  -1  -5\n",
       " -1   1  -1   5   1   0  -1\n",
       "  3   1   5   5   5   1   0"
      ]
     },
     "execution_count": 32,
     "metadata": {},
     "output_type": "execute_result"
    }
   ],
   "source": [
    "ReOrder(LBW245,[1,2,4,7,5,3,6])"
   ]
  },
  {
   "cell_type": "code",
   "execution_count": 31,
   "metadata": {},
   "outputs": [
    {
     "name": "stdout",
     "output_type": "stream",
     "text": [
      "[1, 2, 4, 5, 7, 3, 6] : -33\n",
      "[1, 2, 4, 7, 3, 5, 6] : -33\n",
      "[1, 2, 4, 7, 5, 3, 6] : -35\n",
      "[1, 2, 4, 7, 5, 6, 3] : -33\n",
      "[1, 2, 7, 3, 4, 5, 6] : -33\n",
      "[1, 2, 7, 4, 5, 3, 6] : -33\n",
      "[1, 4, 2, 7, 5, 3, 6] : -33\n",
      "[1, 4, 5, 2, 7, 3, 6] : -33\n",
      "[1, 4, 7, 5, 2, 3, 6] : -33\n",
      "[4, 7, 1, 5, 2, 3, 6] : -33\n",
      "[7, 1, 2, 3, 4, 5, 6] : -33\n",
      "[7, 1, 2, 4, 5, 3, 6] : -33\n",
      "[7, 1, 4, 5, 2, 3, 6] : -33\n",
      "[7, 3, 1, 2, 4, 5, 6] : -33\n",
      "[7, 3, 1, 4, 5, 2, 6] : -33\n"
     ]
    }
   ],
   "source": [
    "FindMinima(LBW245,-33)"
   ]
  }
 ],
 "metadata": {
  "kernelspec": {
   "display_name": "Julia 1.0.3",
   "language": "julia",
   "name": "julia-1.0"
  },
  "language_info": {
   "file_extension": ".jl",
   "mimetype": "application/julia",
   "name": "julia",
   "version": "1.0.3"
  }
 },
 "nbformat": 4,
 "nbformat_minor": 2
}
