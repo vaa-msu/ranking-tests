{
 "cells": [
  {
   "cell_type": "markdown",
   "metadata": {},
   "source": [
    "# Guénoche (2017)"
   ]
  },
  {
   "cell_type": "markdown",
   "metadata": {},
   "source": [
    "Guénoche, A. **Analyse dés Préférences et Tournois Pondérés.** *J. of Interd. Method. and Issues in Science,* vol.2, 2017. ([PDF](https://www.researchgate.net/publication/313712965_Analyse_des_Preferences_et_Tournois_Ponderes/link/58ac37fa458515040205f2a0/download)) ([PDF](https://hal.archives-ouvertes.fr/hal-01324077v1/document))"
   ]
  },
  {
   "cell_type": "code",
   "execution_count": 1,
   "metadata": {},
   "outputs": [],
   "source": [
    "using Rankings"
   ]
  },
  {
   "cell_type": "markdown",
   "metadata": {},
   "source": [
    "Первый пример задан профилем, который здесь записан немного по-другому, нежели в оригинале:"
   ]
  },
  {
   "cell_type": "code",
   "execution_count": 2,
   "metadata": {},
   "outputs": [
    {
     "data": {
      "text/plain": [
       "7×7 Array{Int64,2}:\n",
       "  0  -1  -1  -1   1   1  -1\n",
       "  1   0  -4  -2   0   1   1\n",
       "  1   4   0  -1   1   2   1\n",
       "  1   2   1   0   0  -2  -2\n",
       " -1   0  -1   0   0  -1   1\n",
       " -1  -1  -2   2   1   0   0\n",
       "  1  -1  -1   2  -1   0   0"
      ]
     },
     "execution_count": 2,
     "metadata": {},
     "output_type": "execute_result"
    }
   ],
   "source": [
    "Guénoche2017_1 = ranking\"x₁,x₂,x₃,x₄,(x₅,x₆,x₇)\"⦸\n",
    "                 ranking\"x₅,x₁,x₂,x₄,x₆,(x₃,x₇)\"⦸\n",
    "                 ranking\"x₇,x₆,x₂,x₃,(x₁,x₄,x₅)\"⦸\n",
    "                 ranking\"x₅,x₃,x₄,(x₁,x₂,x₆,x₇)\"⦸\n",
    "                 ranking\"x₄,x₇,x₅,x₆,x₂,(x₁,x₃)\"⦸\n",
    "                 ranking\"x₆,x₁,x₇,x₂,(x₃,x₄,x₅)\""
   ]
  },
  {
   "cell_type": "markdown",
   "metadata": {},
   "source": [
    "Оптимальных ранжирований в нём целых 13!"
   ]
  },
  {
   "cell_type": "code",
   "execution_count": 3,
   "metadata": {},
   "outputs": [
    {
     "name": "stderr",
     "output_type": "stream",
     "text": [
      "┌ Info: Sum of negative values is -25.\n",
      "└ @ Rankings ~/.julia/packages/Rankings/GfcmE/src/consensus.jl:192\n",
      "┌ Warning: Unavoidable excess!\n",
      "└ @ Rankings ~/.julia/packages/Rankings/GfcmE/src/consensus.jl:198\n"
     ]
    },
    {
     "name": "stdout",
     "output_type": "stream",
     "text": [
      "Δ⁺(score_mat) = 2\n"
     ]
    },
    {
     "name": "stderr",
     "output_type": "stream",
     "text": [
      "┌ Info: col_optimize() stopped at [5, 1, 2, 4, 6, 7, 3].\n",
      "└ @ Rankings ~/.julia/packages/Rankings/GfcmE/src/consensus.jl:165\n",
      "┌ Info: Upper-triangle sum is -15.\n",
      "└ @ Rankings ~/.julia/packages/Rankings/GfcmE/src/consensus.jl:166\n",
      "┌ Info: Collecting equivalent permutations...\n",
      "└ @ Rankings ~/.julia/packages/Rankings/GfcmE/src/consensus.jl:55\n",
      "┌ Info: row_optimize() stopped at [4, 5, 6, 1, 7, 2, 3].\n",
      "└ @ Rankings ~/.julia/packages/Rankings/GfcmE/src/consensus.jl:183\n",
      "┌ Info: Upper-triangle sum is -15.\n",
      "└ @ Rankings ~/.julia/packages/Rankings/GfcmE/src/consensus.jl:184\n",
      "┌ Info: Collecting equivalent permutations...\n",
      "└ @ Rankings ~/.julia/packages/Rankings/GfcmE/src/consensus.jl:55\n",
      "┌ Info: Upper-triangle sum reached: -15\n",
      "└ @ Rankings ~/.julia/packages/Rankings/GfcmE/src/consensus.jl:212\n"
     ]
    },
    {
     "data": {
      "text/plain": [
       "13-element Array{Array{Int64,1},1}:\n",
       " [1, 2, 4, 7, 5, 6, 3]\n",
       " [1, 4, 7, 5, 6, 2, 3]\n",
       " [4, 5, 6, 1, 7, 2, 3]\n",
       " [4, 7, 5, 6, 1, 2, 3]\n",
       " [5, 1, 2, 4, 6, 7, 3]\n",
       " [5, 1, 2, 4, 7, 6, 3]\n",
       " [5, 1, 4, 6, 7, 2, 3]\n",
       " [5, 1, 4, 7, 6, 2, 3]\n",
       " [5, 4, 6, 1, 7, 2, 3]\n",
       " [5, 6, 1, 2, 3, 4, 7]\n",
       " [5, 6, 1, 2, 4, 7, 3]\n",
       " [5, 6, 1, 7, 2, 3, 4]\n",
       " [7, 5, 6, 1, 2, 3, 4]"
      ]
     },
     "execution_count": 3,
     "metadata": {},
     "output_type": "execute_result"
    }
   ],
   "source": [
    "consensus(Guénoche2017_1)"
   ]
  },
  {
   "cell_type": "markdown",
   "metadata": {},
   "source": [
    "Второй пример статьи имеет вид турнирной матрицы, поэтому его необходимо преобразовать в эквивалентную антисимметричную\n",
    "«облегчённую» матрицу потерь."
   ]
  },
  {
   "cell_type": "code",
   "execution_count": 4,
   "metadata": {},
   "outputs": [
    {
     "data": {
      "text/plain": [
       "6×6 Array{Int64,2}:\n",
       "  0  -5   5  -1  -1  -1\n",
       "  5   0  -5  -1  -1  -1\n",
       " -5   5   0  -1  -1  -1\n",
       "  1   1   1   0  -1  -1\n",
       "  1   1   1   1   0  -1\n",
       "  1   1   1   1   1   0"
      ]
     },
     "execution_count": 4,
     "metadata": {},
     "output_type": "execute_result"
    }
   ],
   "source": [
    "T = [\n",
    "    0 5 0 1 1 1;\n",
    "    0 0 5 1 1 1;\n",
    "    5 0 0 1 1 1;\n",
    "    0 0 0 0 1 1;\n",
    "    0 0 0 0 0 1;\n",
    "    0 0 0 0 0 0\n",
    "];\n",
    "\n",
    "Guénoche2017_2 = T' - T"
   ]
  },
  {
   "cell_type": "markdown",
   "metadata": {},
   "source": [
    "В этом примере первая тройка столбцов/строк всегда будет содержать «свои»\n",
    "отрицательные элементы (т.е., те, что расположены первоначально в первых трёх строках\n",
    "и столбцах) *по разные стороны* от главной диагонали, поскольку отрицательных значений\n",
    "во всех строках и столбцах этого фрагмента ровно по одному. Стало быть, хотя бы одно\n",
    "из значений -5 всегда будет располагаться под диагональю. А это значит, что сумма\n",
    "всех отрицательных величин недостижима как значение суммы наддиагональных элементов\n",
    "и разница между ними будет не менее 10. То, что при трёх перестановках сумма\n",
    "наддиагональных элементов равна -17 (а сумма всех отрицательных равна -27),\n",
    "говорит о том, что эти перестановки оптимальны."
   ]
  },
  {
   "cell_type": "code",
   "execution_count": 5,
   "metadata": {},
   "outputs": [
    {
     "name": "stdout",
     "output_type": "stream",
     "text": [
      "Δ⁺(score_mat) = 1\n"
     ]
    },
    {
     "name": "stderr",
     "output_type": "stream",
     "text": [
      "┌ Info: Sum of negative values is -27.\n",
      "└ @ Rankings ~/.julia/packages/Rankings/GfcmE/src/consensus.jl:192\n",
      "┌ Warning: Unavoidable excess!\n",
      "└ @ Rankings ~/.julia/packages/Rankings/GfcmE/src/consensus.jl:198\n",
      "┌ Info: col_optimize() stopped at [1, 2, 3, 4, 5, 6].\n",
      "└ @ Rankings ~/.julia/packages/Rankings/GfcmE/src/consensus.jl:165\n",
      "┌ Info: Upper-triangle sum is -17.\n",
      "└ @ Rankings ~/.julia/packages/Rankings/GfcmE/src/consensus.jl:166\n",
      "┌ Info: Collecting equivalent permutations...\n",
      "└ @ Rankings ~/.julia/packages/Rankings/GfcmE/src/consensus.jl:55\n",
      "┌ Info: row_optimize() stopped at [3, 1, 2, 4, 5, 6].\n",
      "└ @ Rankings ~/.julia/packages/Rankings/GfcmE/src/consensus.jl:183\n",
      "┌ Info: Upper-triangle sum is -17.\n",
      "└ @ Rankings ~/.julia/packages/Rankings/GfcmE/src/consensus.jl:184\n",
      "┌ Info: Collecting equivalent permutations...\n",
      "└ @ Rankings ~/.julia/packages/Rankings/GfcmE/src/consensus.jl:55\n",
      "┌ Info: Upper-triangle sum reached: -17\n",
      "└ @ Rankings ~/.julia/packages/Rankings/GfcmE/src/consensus.jl:212\n"
     ]
    },
    {
     "data": {
      "text/plain": [
       "3-element Array{Array{Int64,1},1}:\n",
       " [1, 2, 3, 4, 5, 6]\n",
       " [2, 3, 1, 4, 5, 6]\n",
       " [3, 1, 2, 4, 5, 6]"
      ]
     },
     "execution_count": 5,
     "metadata": {},
     "output_type": "execute_result"
    }
   ],
   "source": [
    "consensus(Guénoche2017_2)"
   ]
  }
 ],
 "metadata": {
  "kernelspec": {
   "display_name": "Julia 1.4.1",
   "language": "julia",
   "name": "julia-1.4"
  },
  "language_info": {
   "file_extension": ".jl",
   "mimetype": "application/julia",
   "name": "julia",
   "version": "1.4.1"
  }
 },
 "nbformat": 4,
 "nbformat_minor": 4
}
