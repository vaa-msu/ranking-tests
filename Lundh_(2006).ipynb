{
 "cells": [
  {
   "cell_type": "markdown",
   "metadata": {},
   "source": [
    "# Lundh (2006)"
   ]
  },
  {
   "cell_type": "markdown",
   "metadata": {},
   "source": [
    "Lundh, T. **Which Ball is the Roundest? -- A Suggested Tournament Stability Index.** *Journal of Quantitative Analysis in Sports,* 2(3). 2006."
   ]
  },
  {
   "cell_type": "markdown",
   "metadata": {},
   "source": [
    "> Команды играют в круговом турнире друг с другом ровно по одному разу -- без ничьих.\n",
    "> Матрица турнира $||t_{ij}||$ содержит либо $1$, если команда $i$ победила $j$, либо $0$.\n",
    "> Необходимо на основе этих результатов расположить все команды в порядке убывания их «игровой силы».\n",
    "> Один из используемых принципов -- минимизация «сюрпризов»: выигрышей более слабых команд\n",
    "> у более сильных (но результат при этом может не быть единственным). "
   ]
  },
  {
   "cell_type": "code",
   "execution_count": 1,
   "metadata": {},
   "outputs": [],
   "source": [
    "T = [\n",
    "      0 1 0 0 1;\n",
    "      0 0 1 1 0;\n",
    "      1 0 0 0 1;\n",
    "      1 0 1 0 1;\n",
    "      0 1 0 0 0\n",
    "    ];"
   ]
  },
  {
   "cell_type": "markdown",
   "metadata": {},
   "source": [
    "Матрица кругового турнира для пяти игроков легко преобразуется в «облегчённую»\n",
    "матрицу потерь с помощью соотношения `T'-T`."
   ]
  },
  {
   "cell_type": "code",
   "execution_count": 2,
   "metadata": {},
   "outputs": [
    {
     "data": {
      "text/plain": [
       "5×5 Array{Int64,2}:\n",
       "  0  -1   1   1  -1\n",
       "  1   0  -1  -1   1\n",
       " -1   1   0   1  -1\n",
       " -1   1  -1   0  -1\n",
       "  1  -1   1   1   0"
      ]
     },
     "execution_count": 2,
     "metadata": {},
     "output_type": "execute_result"
    }
   ],
   "source": [
    "Lundh2006 = T'-T"
   ]
  },
  {
   "cell_type": "markdown",
   "metadata": {},
   "source": [
    "Пример интересен тем, что в одном из оптимальных ранжирований альтернатива 2 оказывается на первом месте, а во втором -- на последнем. Или, выражаясь «турнирным» языком, вторая команда при расположении команд в порядке убывания их «игровой силы» (а таких расположений всего два) может быть как на первом, так и на последнем месте!"
   ]
  },
  {
   "cell_type": "code",
   "execution_count": 3,
   "metadata": {},
   "outputs": [
    {
     "name": "stderr",
     "output_type": "stream",
     "text": [
      "┌ Info: Sum of negative values is -10.\n",
      "└ @ Rankings /home/shunya/.julia/packages/Rankings/GfcmE/src/consensus.jl:192\n",
      "┌ Warning: Unavoidable excess!\n",
      "└ @ Rankings /home/shunya/.julia/packages/Rankings/GfcmE/src/consensus.jl:198\n"
     ]
    },
    {
     "name": "stdout",
     "output_type": "stream",
     "text": [
      "Δ⁺(score_mat) = 2\n"
     ]
    },
    {
     "name": "stderr",
     "output_type": "stream",
     "text": [
      "┌ Info: col_optimize() stopped at [4, 1, 2, 3, 5].\n",
      "└ @ Rankings /home/shunya/.julia/packages/Rankings/GfcmE/src/consensus.jl:165\n",
      "┌ Info: Upper-triangle sum is -4.\n",
      "└ @ Rankings /home/shunya/.julia/packages/Rankings/GfcmE/src/consensus.jl:166\n",
      "┌ Info: Collecting equivalent permutations...\n",
      "└ @ Rankings /home/shunya/.julia/packages/Rankings/GfcmE/src/consensus.jl:55\n",
      "┌ Info: row_optimize() stopped at [4, 3, 1, 5, 2].\n",
      "└ @ Rankings /home/shunya/.julia/packages/Rankings/GfcmE/src/consensus.jl:183\n",
      "┌ Info: Upper-triangle sum is -6.\n",
      "└ @ Rankings /home/shunya/.julia/packages/Rankings/GfcmE/src/consensus.jl:184\n",
      "┌ Info: Collecting equivalent permutations...\n",
      "└ @ Rankings /home/shunya/.julia/packages/Rankings/GfcmE/src/consensus.jl:55\n",
      "┌ Info: Upper-triangle sum reached: -6\n",
      "└ @ Rankings /home/shunya/.julia/packages/Rankings/GfcmE/src/consensus.jl:209\n"
     ]
    },
    {
     "data": {
      "text/plain": [
       "2-element Array{Array{Int64,1},1}:\n",
       " [2, 4, 3, 1, 5]\n",
       " [4, 3, 1, 5, 2]"
      ]
     },
     "execution_count": 3,
     "metadata": {},
     "output_type": "execute_result"
    }
   ],
   "source": [
    "using Rankings\n",
    "consensus(Lundh2006)"
   ]
  }
 ],
 "metadata": {
  "kernelspec": {
   "display_name": "Julia 1.4.1",
   "language": "julia",
   "name": "julia-1.4"
  },
  "language_info": {
   "file_extension": ".jl",
   "mimetype": "application/julia",
   "name": "julia",
   "version": "1.4.1"
  }
 },
 "nbformat": 4,
 "nbformat_minor": 4
}
