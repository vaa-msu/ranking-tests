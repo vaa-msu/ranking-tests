{
 "cells": [
  {
   "cell_type": "markdown",
   "metadata": {},
   "source": [
    "# «Облегчённые» матрицы потерь: 4 альтернативы"
   ]
  },
  {
   "cell_type": "markdown",
   "metadata": {},
   "source": [
    "Используется пакет работы с ранжированиями `Rankings.jl` и функция `FindMinima()` последовательного перебора всех перестановок -- для определения тех из них, что, будучи применёнными к исследуемой матрице, приводят к сумме её наддиагональных элементов, не превышающей заданной величины. Это означает, что при вызове функции `FindMinima()` с величиной предполагаемого минимума в качестве второго параметра будут выведены все перестановки, где этот минимум достигается, а также все перестановки с меньшими значениями -- если они имеются."
   ]
  },
  {
   "cell_type": "code",
   "execution_count": 1,
   "metadata": {},
   "outputs": [
    {
     "data": {
      "text/plain": [
       "FindMinima (generic function with 2 methods)"
      ]
     },
     "execution_count": 1,
     "metadata": {},
     "output_type": "execute_result"
    }
   ],
   "source": [
    "using Rankings\n",
    "include(\"FindScoreMatrixMinima.jl\")"
   ]
  },
  {
   "cell_type": "markdown",
   "metadata": {},
   "source": [
    "## Пример: больше меньших (по модулю) отрицательных величин"
   ]
  },
  {
   "cell_type": "markdown",
   "metadata": {},
   "source": [
    "Рассмотрим простой (специально сконструированный) пример матрицы, где количества отрицательных элементов уже «работают»\n",
    "хуже, чем суммы отрицательных элементов:"
   ]
  },
  {
   "cell_type": "code",
   "execution_count": 2,
   "metadata": {},
   "outputs": [],
   "source": [
    "V = [\n",
    "      0 -1 -3  5;\n",
    "      1  0 -1 -1;\n",
    "      3  1  0 -2;\n",
    "     -5  1  2  0];"
   ]
  },
  {
   "cell_type": "markdown",
   "metadata": {},
   "source": [
    "Проверка того, что введённая вручную матрица действительно антисимметрична:"
   ]
  },
  {
   "cell_type": "code",
   "execution_count": 3,
   "metadata": {},
   "outputs": [
    {
     "data": {
      "text/plain": [
       "true"
      ]
     },
     "execution_count": 3,
     "metadata": {},
     "output_type": "execute_result"
    }
   ],
   "source": [
    "V' == -V"
   ]
  },
  {
   "cell_type": "markdown",
   "metadata": {},
   "source": [
    "Вот как распределены в ней количества строчных и столбцовых отрицательных значений:"
   ]
  },
  {
   "cell_type": "code",
   "execution_count": 4,
   "metadata": {},
   "outputs": [
    {
     "name": "stdout",
     "output_type": "stream",
     "text": [
      "[2, 2, 1, 1]"
     ]
    }
   ],
   "source": [
    "print(Rankings.row_negs(V))"
   ]
  },
  {
   "cell_type": "code",
   "execution_count": 5,
   "metadata": {},
   "outputs": [
    {
     "name": "stdout",
     "output_type": "stream",
     "text": [
      "[1, 1, 2, 2]"
     ]
    }
   ],
   "source": [
    "print(Rankings.col_negs(V))"
   ]
  },
  {
   "cell_type": "markdown",
   "metadata": {},
   "source": [
    "В этой антисимметричной матрице налицо «превышение» (т.е., нет ни одной строки и ни одного столбца, где бы не было отрицательных элементов), показывающее, что как минимум один отрицательный элемент при любых одновременных перестановках\n",
    "строк/столбцов останется под главной диагональю. Однако, для минимальности наддиагональной суммы элементов важно, будет ли это именно -5 или возможны более благоприятные варианты?"
   ]
  },
  {
   "cell_type": "markdown",
   "metadata": {},
   "source": [
    "Как оказывается, здесь существуют два оптимальных расположения строк/столбцов,\n",
    "при которых отрицательных элементов под диагональю остаётся больше (целых два),\n",
    "но сумма их «менее отрицательна», чем -5, а, следовательно, наддигональная сумма --\n",
    "«более отрицательна», т.е., в результате -- меньше."
   ]
  },
  {
   "cell_type": "code",
   "execution_count": 6,
   "metadata": {},
   "outputs": [
    {
     "data": {
      "text/plain": [
       "4×4 Array{Int64,2}:\n",
       "  0  -1   1  -1\n",
       "  1   0  -5   2\n",
       " -1   5   0  -3\n",
       "  1  -2   3   0"
      ]
     },
     "execution_count": 6,
     "metadata": {},
     "output_type": "execute_result"
    }
   ],
   "source": [
    "V[[2,4,1,3],[2,4,1,3]]"
   ]
  },
  {
   "cell_type": "code",
   "execution_count": 7,
   "metadata": {},
   "outputs": [
    {
     "data": {
      "text/plain": [
       "4×4 Array{Int64,2}:\n",
       "  0  -5   1   2\n",
       "  5   0  -1  -3\n",
       " -1   1   0  -1\n",
       " -2   3   1   0"
      ]
     },
     "execution_count": 7,
     "metadata": {},
     "output_type": "execute_result"
    }
   ],
   "source": [
    "V[[4,1,2,3],[4,1,2,3]]"
   ]
  },
  {
   "cell_type": "markdown",
   "metadata": {},
   "source": [
    "Эвристический поиск оптимальных перестановок, минимизируюших сумму наддиагональных элементов матрицы `V`."
   ]
  },
  {
   "cell_type": "code",
   "execution_count": 8,
   "metadata": {},
   "outputs": [
    {
     "name": "stderr",
     "output_type": "stream",
     "text": [
      "┌ Info: Sum of negative values is -13.\n",
      "└ @ Rankings ~/.julia/packages/Rankings/GfcmE/src/consensus.jl:192\n",
      "┌ Warning: Unavoidable excess!\n",
      "└ @ Rankings ~/.julia/packages/Rankings/GfcmE/src/consensus.jl:198\n"
     ]
    },
    {
     "name": "stdout",
     "output_type": "stream",
     "text": [
      "Δ⁺(score_mat) = 1\n"
     ]
    },
    {
     "name": "stderr",
     "output_type": "stream",
     "text": [
      "┌ Info: col_optimize() stopped at [2, 4, 1, 3].\n",
      "└ @ Rankings ~/.julia/packages/Rankings/GfcmE/src/consensus.jl:165\n",
      "┌ Info: Upper-triangle sum is -7.\n",
      "└ @ Rankings ~/.julia/packages/Rankings/GfcmE/src/consensus.jl:166\n",
      "┌ Info: Collecting equivalent permutations...\n",
      "└ @ Rankings ~/.julia/packages/Rankings/GfcmE/src/consensus.jl:55\n",
      "┌ Info: row_optimize() stopped at [2, 4, 1, 3].\n",
      "└ @ Rankings ~/.julia/packages/Rankings/GfcmE/src/consensus.jl:183\n",
      "┌ Info: Upper-triangle sum is -7.\n",
      "└ @ Rankings ~/.julia/packages/Rankings/GfcmE/src/consensus.jl:184\n",
      "┌ Info: Collecting equivalent permutations...\n",
      "└ @ Rankings ~/.julia/packages/Rankings/GfcmE/src/consensus.jl:55\n",
      "┌ Info: Upper-triangle sum reached: -7\n",
      "└ @ Rankings ~/.julia/packages/Rankings/GfcmE/src/consensus.jl:212\n"
     ]
    },
    {
     "data": {
      "text/plain": [
       "2-element Array{Array{Int64,1},1}:\n",
       " [2, 4, 1, 3]\n",
       " [4, 1, 2, 3]"
      ]
     },
     "execution_count": 8,
     "metadata": {},
     "output_type": "execute_result"
    }
   ],
   "source": [
    "consensus(V)"
   ]
  },
  {
   "cell_type": "markdown",
   "metadata": {},
   "source": [
    "Проверка полученных результатов последовательным перебором всех подходящих перестановок."
   ]
  },
  {
   "cell_type": "code",
   "execution_count": 9,
   "metadata": {},
   "outputs": [
    {
     "name": "stdout",
     "output_type": "stream",
     "text": [
      "[2, 4, 1, 3] : -7\n",
      "[4, 1, 2, 3] : -7\n"
     ]
    }
   ],
   "source": [
    "FindMinima(V,-7)"
   ]
  },
  {
   "cell_type": "markdown",
   "metadata": {},
   "source": [
    "## Литвак (1982)"
   ]
  },
  {
   "cell_type": "markdown",
   "metadata": {},
   "source": [
    "Б.Г.Литвак. **Экспертная информация. Методы получения и анализа.** М.: Радио и связь, 1982.\n",
    "\n",
    "Исходные ранжирования приводятся на странице 78, а оптимальное консенсусное ранжирование -- на странице 83."
   ]
  },
  {
   "cell_type": "code",
   "execution_count": 10,
   "metadata": {},
   "outputs": [
    {
     "data": {
      "text/plain": [
       "4×4 Array{Int64,2}:\n",
       "  0   2  0   1\n",
       " -2   0  1  -2\n",
       "  0  -1  0  -1\n",
       " -1   2  1   0"
      ]
     },
     "execution_count": 10,
     "metadata": {},
     "output_type": "execute_result"
    }
   ],
   "source": [
    "Литвак1982_78 = ranking\"a₂,a₄,a₁,a₃\"⦸\n",
    "                ranking\"a₁,(a₃,a₄),a₂\"⦸\n",
    "                ranking\"(a₂,a₃),a₄,a₁\"⦸\n",
    "                ranking\"a₃,a₂,(a₁,a₄)\""
   ]
  },
  {
   "cell_type": "markdown",
   "metadata": {},
   "source": [
    "Эвристический поиск оптимальных перестановок, минимизируюших сумму наддиагональных элементов матрицы `Литвак1982_78`."
   ]
  },
  {
   "cell_type": "code",
   "execution_count": 11,
   "metadata": {},
   "outputs": [
    {
     "name": "stdout",
     "output_type": "stream",
     "text": [
      "Δ⁺(score_mat) = 0\n"
     ]
    },
    {
     "name": "stderr",
     "output_type": "stream",
     "text": [
      "┌ Info: Sum of negative values is -7.\n",
      "└ @ Rankings ~/.julia/packages/Rankings/GfcmE/src/consensus.jl:192\n",
      "┌ Info: col_optimize() stopped at [3, 2, 4, 1].\n",
      "└ @ Rankings ~/.julia/packages/Rankings/GfcmE/src/consensus.jl:165\n",
      "┌ Info: Upper-triangle sum is -7.\n",
      "└ @ Rankings ~/.julia/packages/Rankings/GfcmE/src/consensus.jl:166\n",
      "┌ Info: Collecting equivalent permutations...\n",
      "└ @ Rankings ~/.julia/packages/Rankings/GfcmE/src/consensus.jl:55\n",
      "┌ Info: row_optimize() stopped at [3, 2, 4, 1].\n",
      "└ @ Rankings ~/.julia/packages/Rankings/GfcmE/src/consensus.jl:183\n",
      "┌ Info: Upper-triangle sum is -7.\n",
      "└ @ Rankings ~/.julia/packages/Rankings/GfcmE/src/consensus.jl:184\n",
      "┌ Info: Collecting equivalent permutations...\n",
      "└ @ Rankings ~/.julia/packages/Rankings/GfcmE/src/consensus.jl:55\n",
      "┌ Info: Upper-triangle sum reached: -7\n",
      "└ @ Rankings ~/.julia/packages/Rankings/GfcmE/src/consensus.jl:212\n"
     ]
    },
    {
     "data": {
      "text/plain": [
       "1-element Array{Array{Int64,1},1}:\n",
       " [3, 2, 4, 1]"
      ]
     },
     "execution_count": 11,
     "metadata": {},
     "output_type": "execute_result"
    }
   ],
   "source": [
    "consensus(Литвак1982_78)"
   ]
  },
  {
   "cell_type": "markdown",
   "metadata": {},
   "source": [
    "Проверка полученных результатов последовательным перебором всех подходящих перестановок."
   ]
  },
  {
   "cell_type": "code",
   "execution_count": 12,
   "metadata": {},
   "outputs": [
    {
     "name": "stdout",
     "output_type": "stream",
     "text": [
      "[3, 2, 4, 1] : -7\n"
     ]
    }
   ],
   "source": [
    "FindMinima(Литвак1982_78,-7)"
   ]
  },
  {
   "cell_type": "markdown",
   "metadata": {},
   "source": [
    "Этот пример интересен тем, что здесь наличие нулевых внедиагональных значений в «облегчённой» матрице потерь не привело к  множественности оптимальных перестановок."
   ]
  },
  {
   "cell_type": "markdown",
   "metadata": {},
   "source": [
    "## Klamler (2003)"
   ]
  },
  {
   "cell_type": "markdown",
   "metadata": {},
   "source": [
    "Klamler, C. **Kemeny's rule and Slater's rule: A binary comparison.** *Economics Bulletin,* **4** (35), 1--7 (2003). ([URL](http://www.accessecon.com/includes/CountdownloadPDF.aspx?PaperID=EB-03D70009))"
   ]
  },
  {
   "cell_type": "code",
   "execution_count": 13,
   "metadata": {},
   "outputs": [
    {
     "data": {
      "text/plain": [
       "4×4 Array{Int64,2}:\n",
       "  0  -1  -1   3\n",
       "  1   0  -3  -3\n",
       "  1   3   0  -3\n",
       " -3   3   3   0"
      ]
     },
     "execution_count": 13,
     "metadata": {},
     "output_type": "execute_result"
    }
   ],
   "source": [
    "Klamler2003 = ranking\"x₁,x₂,x₃,x₄\"⦸\n",
    "              ranking\"x₁,x₂,x₃,x₄\"⦸\n",
    "              ranking\"x₁,x₂,x₃,x₄\"⦸\n",
    "              ranking\"x₂,x₃,x₄,x₁\"⦸\n",
    "              ranking\"x₃,x₂,x₄,x₁\"⦸\n",
    "              ranking\"x₃,x₂,x₄,x₁\"⦸\n",
    "              ranking\"x₄,x₁,x₂,x₃\"⦸\n",
    "              ranking\"x₄,x₁,x₂,x₃\"⦸\n",
    "              ranking\"x₄,x₃,x₂,x₁\""
   ]
  },
  {
   "cell_type": "markdown",
   "metadata": {},
   "source": [
    "Эвристический поиск оптимальных перестановок, минимизируюших сумму наддиагональных элементов матрицы `Klamler2003`."
   ]
  },
  {
   "cell_type": "code",
   "execution_count": 14,
   "metadata": {},
   "outputs": [
    {
     "name": "stdout",
     "output_type": "stream",
     "text": [
      "Δ⁺(score_mat) = 1\n"
     ]
    },
    {
     "name": "stderr",
     "output_type": "stream",
     "text": [
      "┌ Info: Sum of negative values is -14.\n",
      "└ @ Rankings ~/.julia/packages/Rankings/GfcmE/src/consensus.jl:192\n",
      "┌ Warning: Unavoidable excess!\n",
      "└ @ Rankings ~/.julia/packages/Rankings/GfcmE/src/consensus.jl:198\n",
      "┌ Info: col_optimize() stopped at [2, 3, 4, 1].\n",
      "└ @ Rankings ~/.julia/packages/Rankings/GfcmE/src/consensus.jl:165\n",
      "┌ Info: Upper-triangle sum is -10.\n",
      "└ @ Rankings ~/.julia/packages/Rankings/GfcmE/src/consensus.jl:166\n",
      "┌ Info: Collecting equivalent permutations...\n",
      "└ @ Rankings ~/.julia/packages/Rankings/GfcmE/src/consensus.jl:55\n",
      "┌ Info: row_optimize() stopped at [2, 3, 4, 1].\n",
      "└ @ Rankings ~/.julia/packages/Rankings/GfcmE/src/consensus.jl:183\n",
      "┌ Info: Upper-triangle sum is -10.\n",
      "└ @ Rankings ~/.julia/packages/Rankings/GfcmE/src/consensus.jl:184\n",
      "┌ Info: Collecting equivalent permutations...\n",
      "└ @ Rankings ~/.julia/packages/Rankings/GfcmE/src/consensus.jl:55\n",
      "┌ Info: Upper-triangle sum reached: -10\n",
      "└ @ Rankings ~/.julia/packages/Rankings/GfcmE/src/consensus.jl:212\n"
     ]
    },
    {
     "data": {
      "text/plain": [
       "1-element Array{Array{Int64,1},1}:\n",
       " [2, 3, 4, 1]"
      ]
     },
     "execution_count": 14,
     "metadata": {},
     "output_type": "execute_result"
    }
   ],
   "source": [
    "consensus(Klamler2003)"
   ]
  },
  {
   "cell_type": "markdown",
   "metadata": {},
   "source": [
    "Проверка полученных результатов последовательным перебором всех подходящих перестановок."
   ]
  },
  {
   "cell_type": "code",
   "execution_count": 15,
   "metadata": {},
   "outputs": [
    {
     "name": "stdout",
     "output_type": "stream",
     "text": [
      "[2, 3, 4, 1] : -10\n"
     ]
    }
   ],
   "source": [
    "FindMinima(Klamler2003,-10)"
   ]
  },
  {
   "cell_type": "code",
   "execution_count": 16,
   "metadata": {},
   "outputs": [
    {
     "data": {
      "text/plain": [
       "4×4 Array{Int64,2}:\n",
       "  0  -3  -3   1\n",
       "  3   0  -3   1\n",
       "  3   3   0  -3\n",
       " -1  -1   3   0"
      ]
     },
     "execution_count": 16,
     "metadata": {},
     "output_type": "execute_result"
    }
   ],
   "source": [
    "Klamler2003[[2,3,4,1],[2,3,4,1]]"
   ]
  },
  {
   "cell_type": "markdown",
   "metadata": {},
   "source": [
    "## Guénoche (2014)"
   ]
  },
  {
   "cell_type": "markdown",
   "metadata": {},
   "source": [
    "Guénoche, A. **Single or Multiple Consensus for Linear Orders.** In: *Aleskerov F., Goldengorin B., Pardalos P. (eds) **Clusters, Orders, and Trees: Methods and Applications**. Springer Optimization and Its Applications,* vol 92, pp.189--199. Springer, New York. 2014. (DOI: [10.1007/978-1-4939-0742-7_12](https://doi.org/10.1007/978-1-4939-0742-7_12))"
   ]
  },
  {
   "cell_type": "markdown",
   "metadata": {},
   "source": [
    "Исходные данные представлены в статье (Example 2) в виде турнирной таблицы (*weighted tournament table*), которой соответствует такая матрица:"
   ]
  },
  {
   "cell_type": "code",
   "execution_count": 17,
   "metadata": {},
   "outputs": [],
   "source": [
    "T = [\n",
    "       0 0 0 0;\n",
    "       2 0 2 0;\n",
    "       2 0 0 0;\n",
    "       2 0 0 0];"
   ]
  },
  {
   "cell_type": "markdown",
   "metadata": {},
   "source": [
    "Далее она преобразуется в антисимметричную матрицу:"
   ]
  },
  {
   "cell_type": "code",
   "execution_count": 18,
   "metadata": {},
   "outputs": [
    {
     "data": {
      "text/plain": [
       "4×4 Array{Int64,2}:\n",
       "  0  2   2  2\n",
       " -2  0  -2  0\n",
       " -2  2   0  0\n",
       " -2  0   0  0"
      ]
     },
     "execution_count": 18,
     "metadata": {},
     "output_type": "execute_result"
    }
   ],
   "source": [
    "Guénoche2014Ex2 = T' - T"
   ]
  },
  {
   "cell_type": "markdown",
   "metadata": {},
   "source": [
    "Эвристический поиск оптимальных перестановок, минимизируюших сумму наддиагональных элементов матрицы `Guénoche2014Ex2`."
   ]
  },
  {
   "cell_type": "code",
   "execution_count": 19,
   "metadata": {},
   "outputs": [
    {
     "name": "stdout",
     "output_type": "stream",
     "text": [
      "Δ⁺(score_mat) = 0\n"
     ]
    },
    {
     "name": "stderr",
     "output_type": "stream",
     "text": [
      "┌ Info: Sum of negative values is -8.\n",
      "└ @ Rankings ~/.julia/packages/Rankings/GfcmE/src/consensus.jl:192\n",
      "┌ Info: col_optimize() stopped at [2, 4, 3, 1].\n",
      "└ @ Rankings ~/.julia/packages/Rankings/GfcmE/src/consensus.jl:165\n",
      "┌ Info: Upper-triangle sum is -8.\n",
      "└ @ Rankings ~/.julia/packages/Rankings/GfcmE/src/consensus.jl:166\n",
      "┌ Info: Collecting equivalent permutations...\n",
      "└ @ Rankings ~/.julia/packages/Rankings/GfcmE/src/consensus.jl:55\n",
      "┌ Info: row_optimize() stopped at [2, 4, 3, 1].\n",
      "└ @ Rankings ~/.julia/packages/Rankings/GfcmE/src/consensus.jl:183\n",
      "┌ Info: Upper-triangle sum is -8.\n",
      "└ @ Rankings ~/.julia/packages/Rankings/GfcmE/src/consensus.jl:184\n",
      "┌ Info: Collecting equivalent permutations...\n",
      "└ @ Rankings ~/.julia/packages/Rankings/GfcmE/src/consensus.jl:55\n",
      "┌ Info: Upper-triangle sum reached: -8\n",
      "└ @ Rankings ~/.julia/packages/Rankings/GfcmE/src/consensus.jl:212\n"
     ]
    },
    {
     "data": {
      "text/plain": [
       "3-element Array{Array{Int64,1},1}:\n",
       " [2, 3, 4, 1]\n",
       " [2, 4, 3, 1]\n",
       " [4, 2, 3, 1]"
      ]
     },
     "execution_count": 19,
     "metadata": {},
     "output_type": "execute_result"
    }
   ],
   "source": [
    "consensus(Guénoche2014Ex2)"
   ]
  },
  {
   "cell_type": "markdown",
   "metadata": {},
   "source": [
    "Проверка полученных результатов последовательным перебором всех подходящих перестановок."
   ]
  },
  {
   "cell_type": "code",
   "execution_count": 20,
   "metadata": {},
   "outputs": [
    {
     "name": "stdout",
     "output_type": "stream",
     "text": [
      "[2, 3, 4, 1] : -8\n",
      "[2, 4, 3, 1] : -8\n",
      "[4, 2, 3, 1] : -8\n"
     ]
    }
   ],
   "source": [
    "FindMinima(Guénoche2014Ex2,-8)"
   ]
  }
 ],
 "metadata": {
  "kernelspec": {
   "display_name": "Julia 1.4.1",
   "language": "julia",
   "name": "julia-1.4"
  },
  "language_info": {
   "file_extension": ".jl",
   "mimetype": "application/julia",
   "name": "julia",
   "version": "1.4.1"
  }
 },
 "nbformat": 4,
 "nbformat_minor": 4
}
