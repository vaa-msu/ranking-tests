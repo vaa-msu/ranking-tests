{
 "cells": [
  {
   "cell_type": "markdown",
   "metadata": {},
   "source": [
    "# Trouchon (1998)"
   ]
  },
  {
   "cell_type": "markdown",
   "metadata": {},
   "source": [
    "Truchon, M. **Figure Skating and the Theory of Social Choice.** *Cahier de recherche 9814,\n",
    "Département d'économique, Université Laval,* October 1998. [PDF](https://core.ac.uk/download/pdf/7227062.pdf)"
   ]
  },
  {
   "cell_type": "markdown",
   "metadata": {},
   "source": [
    "Для преобразования принятой здесь (и в литературе) записи набора ранжирований используется\n",
    "специально созданный для этой цели пакет [Rankings.jl](https://github.com/vaa-msu/Rankings.jl)."
   ]
  },
  {
   "cell_type": "code",
   "execution_count": 1,
   "metadata": {},
   "outputs": [],
   "source": [
    "# using Pkg; Pkg.clone(\"https://github.com/vaa-msu/Rankings.jl\") # Для установки пакета\n",
    "using Rankings"
   ]
  },
  {
   "cell_type": "markdown",
   "metadata": {},
   "source": [
    "## Приводимый в статье вариант"
   ]
  },
  {
   "cell_type": "markdown",
   "metadata": {},
   "source": [
    "Первый проверяемый вариант полностью совпадает с приводимым в статье, хотя имеются\n",
    "основания считать, что там закрались опечатки (в таблице 1 в первом столбце одинаковы\n",
    "оценки судей для `E` и `F` -- 4, а в столбце 5 этой же таблицы снова одинаковы оценки\n",
    "для `A` и `B` -- 1); название профиля, альтернатив и соответствующей «облегчённой»\n",
    "матрицы потерь взяты из статьи (т.н. ISU example)."
   ]
  },
  {
   "cell_type": "code",
   "execution_count": 2,
   "metadata": {},
   "outputs": [
    {
     "data": {
      "text/plain": [
       "15×15 Array{Int64,2}:\n",
       " 0  -2  -3  -5  -9  -9  -9  -9  -9  -9  -9  -9  -9  -9  -9\n",
       " 2   0  -1  -5  -9  -9  -9  -9  -9  -9  -9  -9  -9  -9  -9\n",
       " 3   1   0  -9  -9  -9  -7  -9  -9  -9  -9  -9  -9  -9  -9\n",
       " 5   5   9   0  -1  -1  -5  -7  -9  -9  -9  -9  -9  -9  -9\n",
       " 9   9   9   1   0  -2  -3  -5  -9  -9  -9  -9  -9  -9  -9\n",
       " 9   9   9   1   2   0  -3  -1  -9  -9  -9  -9  -9  -9  -9\n",
       " 9   9   7   5   3   3   0  -1  -9  -7  -9  -7  -9  -9  -9\n",
       " 9   9   9   7   5   1   1   0  -9  -7  -9  -9  -9  -9  -9\n",
       " 9   9   9   9   9   9   9   9   0   1   1  -3  -1  -5  -9\n",
       " 9   9   9   9   9   9   7   7  -1   0  -3  -3  -1  -5  -9\n",
       " 9   9   9   9   9   9   9   9  -1   3   0   1  -1  -1  -7\n",
       " 9   9   9   9   9   9   7   9   3   3  -1   0   1  -3  -7\n",
       " 9   9   9   9   9   9   9   9   1   1   1  -1   0  -3  -7\n",
       " 9   9   9   9   9   9   9   9   5   5   1   3   3   0  -3\n",
       " 9   9   9   9   9   9   9   9   9   9   7   7   7   3   0"
      ]
     },
     "execution_count": 2,
     "metadata": {},
     "output_type": "execute_result"
    }
   ],
   "source": [
    "ISU = ranking\"A,C,B,(E,F),D,H,G,M,K,I,J,L,O,N\"⦸\n",
    "      ranking\"A,C,B,E,F,D,H,G,J,I,L,K,M,O,N\"⦸\n",
    "      ranking\"A,B,G,C,D,E,H,F,M,N,K,I,J,L,O\"⦸\n",
    "      ranking\"A,B,C,E,H,D,F,L,G,K,J,I,N,M,O\"⦸\n",
    "      ranking\"(A,B),C,D,F,H,E,J,G,I,L,N,K,O,M\"⦸\n",
    "      ranking\"B,C,A,F,G,E,D,J,H,K,I,N,L,M,O\"⦸\n",
    "      ranking\"A,B,C,F,D,G,H,E,M,N,L,I,J,K,O\"⦸\n",
    "      ranking\"C,D,B,A,E,G,H,F,J,K,I,M,O,L,N\"⦸\n",
    "      ranking\"C,D,B,A,E,G,H,F,M,L,I,J,N,O,K\""
   ]
  },
  {
   "cell_type": "markdown",
   "metadata": {},
   "source": [
    "Подключение файла с проводимыми далее проверками."
   ]
  },
  {
   "cell_type": "code",
   "execution_count": 3,
   "metadata": {},
   "outputs": [
    {
     "data": {
      "text/plain": [
       "is_min_reached (generic function with 1 method)"
      ]
     },
     "execution_count": 3,
     "metadata": {},
     "output_type": "execute_result"
    }
   ],
   "source": [
    "include(\"some-checks.jl\")"
   ]
  },
  {
   "cell_type": "markdown",
   "metadata": {},
   "source": [
    "Проверка, что не имеет места самый простой случай: различия всех столбцовых\n",
    "и всех строчных количеств отрицательных значений."
   ]
  },
  {
   "cell_type": "code",
   "execution_count": 4,
   "metadata": {},
   "outputs": [
    {
     "data": {
      "text/plain": [
       "false"
      ]
     },
     "execution_count": 4,
     "metadata": {},
     "output_type": "execute_result"
    }
   ],
   "source": [
    "is_straight(ISU)"
   ]
  },
  {
   "cell_type": "markdown",
   "metadata": {},
   "source": [
    "Проверка наличия «неустранимых» превышений в столбцовых и строчных количествах."
   ]
  },
  {
   "cell_type": "code",
   "execution_count": 5,
   "metadata": {},
   "outputs": [
    {
     "data": {
      "text/plain": [
       "true"
      ]
     },
     "execution_count": 5,
     "metadata": {},
     "output_type": "execute_result"
    }
   ],
   "source": [
    "is_crossing(ISU)"
   ]
  },
  {
   "cell_type": "markdown",
   "metadata": {},
   "source": [
    "Количество «выходящих» за допустимые пределы столбцов:"
   ]
  },
  {
   "cell_type": "code",
   "execution_count": 6,
   "metadata": {},
   "outputs": [
    {
     "data": {
      "text/plain": [
       "1"
      ]
     },
     "execution_count": 6,
     "metadata": {},
     "output_type": "execute_result"
    }
   ],
   "source": [
    "sum_above_cols(ISU)"
   ]
  },
  {
   "cell_type": "markdown",
   "metadata": {},
   "source": [
    "Количество «выходящих» за допустимые пределы строк:"
   ]
  },
  {
   "cell_type": "code",
   "execution_count": 7,
   "metadata": {},
   "outputs": [
    {
     "data": {
      "text/plain": [
       "1"
      ]
     },
     "execution_count": 7,
     "metadata": {},
     "output_type": "execute_result"
    }
   ],
   "source": [
    "sum_above_rows(ISU)"
   ]
  },
  {
   "cell_type": "markdown",
   "metadata": {},
   "source": [
    "Отсортированные столбцы матрицы `ISU` в порядке возрастания столбцовых количеств отрицательных величин."
   ]
  },
  {
   "cell_type": "code",
   "execution_count": 8,
   "metadata": {},
   "outputs": [
    {
     "data": {
      "text/plain": [
       "15-element Array{Int64,1}:\n",
       "  1\n",
       "  2\n",
       "  3\n",
       "  4\n",
       "  5\n",
       "  6\n",
       "  7\n",
       "  8\n",
       " 10\n",
       "  9\n",
       " 11\n",
       " 12\n",
       " 13\n",
       " 14\n",
       " 15"
      ]
     },
     "execution_count": 8,
     "metadata": {},
     "output_type": "execute_result"
    }
   ],
   "source": [
    "P = sortperm(col_negs(ISU))"
   ]
  },
  {
   "cell_type": "markdown",
   "metadata": {},
   "source": [
    "«Облегчённая» матрица потерь `ISU` после перестановки её строк/столбцов с помощью `P`:"
   ]
  },
  {
   "cell_type": "code",
   "execution_count": 9,
   "metadata": {},
   "outputs": [
    {
     "data": {
      "text/plain": [
       "15×15 Array{Int64,2}:\n",
       " 0  -2  -3  -5  -9  -9  -9  -9  -9  -9  -9  -9  -9  -9  -9\n",
       " 2   0  -1  -5  -9  -9  -9  -9  -9  -9  -9  -9  -9  -9  -9\n",
       " 3   1   0  -9  -9  -9  -7  -9  -9  -9  -9  -9  -9  -9  -9\n",
       " 5   5   9   0  -1  -1  -5  -7  -9  -9  -9  -9  -9  -9  -9\n",
       " 9   9   9   1   0  -2  -3  -5  -9  -9  -9  -9  -9  -9  -9\n",
       " 9   9   9   1   2   0  -3  -1  -9  -9  -9  -9  -9  -9  -9\n",
       " 9   9   7   5   3   3   0  -1  -7  -9  -9  -7  -9  -9  -9\n",
       " 9   9   9   7   5   1   1   0  -7  -9  -9  -9  -9  -9  -9\n",
       " 9   9   9   9   9   9   7   7   0  -1  -3  -3  -1  -5  -9\n",
       " 9   9   9   9   9   9   9   9   1   0   1  -3  -1  -5  -9\n",
       " 9   9   9   9   9   9   9   9   3  -1   0   1  -1  -1  -7\n",
       " 9   9   9   9   9   9   7   9   3   3  -1   0   1  -3  -7\n",
       " 9   9   9   9   9   9   9   9   1   1   1  -1   0  -3  -7\n",
       " 9   9   9   9   9   9   9   9   5   5   1   3   3   0  -3\n",
       " 9   9   9   9   9   9   9   9   9   9   7   7   7   3   0"
      ]
     },
     "execution_count": 9,
     "metadata": {},
     "output_type": "execute_result"
    }
   ],
   "source": [
    "ISU[P,P]"
   ]
  },
  {
   "cell_type": "markdown",
   "metadata": {},
   "source": [
    "Отсортированные строки матрицы `ISU` в порядке убывания строчных количеств отрицательных величин."
   ]
  },
  {
   "cell_type": "code",
   "execution_count": 10,
   "metadata": {},
   "outputs": [
    {
     "data": {
      "text/plain": [
       "15-element Array{Int64,1}:\n",
       "  1\n",
       "  2\n",
       "  3\n",
       "  4\n",
       "  5\n",
       "  6\n",
       "  7\n",
       "  8\n",
       " 10\n",
       " 11\n",
       "  9\n",
       " 13\n",
       " 12\n",
       " 14\n",
       " 15"
      ]
     },
     "execution_count": 10,
     "metadata": {},
     "output_type": "execute_result"
    }
   ],
   "source": [
    "Q = reverse(sortperm(row_negs(ISU)))"
   ]
  },
  {
   "cell_type": "markdown",
   "metadata": {},
   "source": [
    "«Облегчённая» матрица потерь `ISU` после перестановки её строк/столбцов с помощью `Q`:"
   ]
  },
  {
   "cell_type": "code",
   "execution_count": 11,
   "metadata": {},
   "outputs": [
    {
     "data": {
      "text/plain": [
       "15×15 Array{Int64,2}:\n",
       " 0  -2  -3  -5  -9  -9  -9  -9  -9  -9  -9  -9  -9  -9  -9\n",
       " 2   0  -1  -5  -9  -9  -9  -9  -9  -9  -9  -9  -9  -9  -9\n",
       " 3   1   0  -9  -9  -9  -7  -9  -9  -9  -9  -9  -9  -9  -9\n",
       " 5   5   9   0  -1  -1  -5  -7  -9  -9  -9  -9  -9  -9  -9\n",
       " 9   9   9   1   0  -2  -3  -5  -9  -9  -9  -9  -9  -9  -9\n",
       " 9   9   9   1   2   0  -3  -1  -9  -9  -9  -9  -9  -9  -9\n",
       " 9   9   7   5   3   3   0  -1  -7  -9  -9  -9  -7  -9  -9\n",
       " 9   9   9   7   5   1   1   0  -7  -9  -9  -9  -9  -9  -9\n",
       " 9   9   9   9   9   9   7   7   0  -3  -1  -1  -3  -5  -9\n",
       " 9   9   9   9   9   9   9   9   3   0  -1  -1   1  -1  -7\n",
       " 9   9   9   9   9   9   9   9   1   1   0  -1  -3  -5  -9\n",
       " 9   9   9   9   9   9   9   9   1   1   1   0  -1  -3  -7\n",
       " 9   9   9   9   9   9   7   9   3  -1   3   1   0  -3  -7\n",
       " 9   9   9   9   9   9   9   9   5   1   5   3   3   0  -3\n",
       " 9   9   9   9   9   9   9   9   9   7   9   7   7   3   0"
      ]
     },
     "execution_count": 11,
     "metadata": {},
     "output_type": "execute_result"
    }
   ],
   "source": [
    "ISU[Q,Q]"
   ]
  },
  {
   "cell_type": "markdown",
   "metadata": {},
   "source": [
    "Сумма всех отрицательных величин в «облегчённой» матрице потерь `ISU`:"
   ]
  },
  {
   "cell_type": "code",
   "execution_count": 12,
   "metadata": {},
   "outputs": [
    {
     "data": {
      "text/plain": [
       "-733"
      ]
     },
     "execution_count": 12,
     "metadata": {},
     "output_type": "execute_result"
    }
   ],
   "source": [
    "sum(ISU[ISU.<0]) # -733"
   ]
  },
  {
   "cell_type": "markdown",
   "metadata": {},
   "source": [
    "Наддиагональная сумма величин при воздействии на матрицу `ISU` перестановкой `Q`:"
   ]
  },
  {
   "cell_type": "code",
   "execution_count": 13,
   "metadata": {},
   "outputs": [
    {
     "data": {
      "text/plain": [
       "-731"
      ]
     },
     "execution_count": 13,
     "metadata": {},
     "output_type": "execute_result"
    }
   ],
   "source": [
    "upper_sum(ISU[Q,Q]) # -731"
   ]
  },
  {
   "cell_type": "markdown",
   "metadata": {},
   "source": [
    "Наддиагональная сумма после перестановки `Q` отличается от оптимальной на величину\n",
    "одного переставленного значения $-1$. Этот результат является неулучшаемым, поскольку\n",
    "упомянутые выше превышения неустранимы."
   ]
  },
  {
   "cell_type": "markdown",
   "metadata": {},
   "source": [
    "## Исправленный вариант (без совпадений рангов альтернатив)"
   ]
  },
  {
   "cell_type": "markdown",
   "metadata": {},
   "source": [
    "Второй проверяемый вариант с исправленными (предполагаемыми) опечатками (нет одинаковых\n",
    "рангов у альтернатив `A,B,C,D,E,F,G,H,I,J,K,L,M,N,O` ни для одного из судей)."
   ]
  },
  {
   "cell_type": "code",
   "execution_count": 14,
   "metadata": {},
   "outputs": [
    {
     "data": {
      "text/plain": [
       "15×15 Array{Int64,2}:\n",
       " 0  -3  -3  -5  -9  -9  -9  -9  -9  -9  -9  -9  -9  -9  -9\n",
       " 3   0  -1  -5  -9  -9  -9  -9  -9  -9  -9  -9  -9  -9  -9\n",
       " 3   1   0  -9  -9  -9  -7  -9  -9  -9  -9  -9  -9  -9  -9\n",
       " 5   5   9   0  -1  -1  -5  -7  -9  -9  -9  -9  -9  -9  -9\n",
       " 9   9   9   1   0  -3  -3  -5  -9  -9  -9  -9  -9  -9  -9\n",
       " 9   9   9   1   3   0  -3  -1  -9  -9  -9  -9  -9  -9  -9\n",
       " 9   9   7   5   3   3   0  -1  -9  -7  -9  -7  -9  -9  -9\n",
       " 9   9   9   7   5   1   1   0  -9  -7  -9  -9  -9  -9  -9\n",
       " 9   9   9   9   9   9   9   9   0   1   1  -3  -1  -5  -9\n",
       " 9   9   9   9   9   9   7   7  -1   0  -3  -3  -1  -5  -9\n",
       " 9   9   9   9   9   9   9   9  -1   3   0   1  -1  -1  -7\n",
       " 9   9   9   9   9   9   7   9   3   3  -1   0   1  -3  -7\n",
       " 9   9   9   9   9   9   9   9   1   1   1  -1   0  -3  -7\n",
       " 9   9   9   9   9   9   9   9   5   5   1   3   3   0  -3\n",
       " 9   9   9   9   9   9   9   9   9   9   7   7   7   3   0"
      ]
     },
     "execution_count": 14,
     "metadata": {},
     "output_type": "execute_result"
    }
   ],
   "source": [
    "ISU2 = ranking\"A,C,B,E,F,D,H,G,M,K,I,J,L,O,N\"⦸\n",
    "       ranking\"A,C,B,E,F,D,H,G,J,I,L,K,M,O,N\"⦸\n",
    "       ranking\"A,B,G,C,D,E,H,F,M,N,K,I,J,L,O\"⦸\n",
    "       ranking\"A,B,C,E,H,D,F,L,G,K,J,I,N,M,O\"⦸\n",
    "       ranking\"A,B,C,D,F,H,E,J,G,I,L,N,K,O,M\"⦸\n",
    "       ranking\"B,C,A,F,G,E,D,J,H,K,I,N,L,M,O\"⦸\n",
    "       ranking\"A,B,C,F,D,G,H,E,M,N,L,I,J,K,O\"⦸\n",
    "       ranking\"C,D,B,A,E,G,H,F,J,K,I,M,O,L,N\"⦸\n",
    "       ranking\"C,D,B,A,E,G,H,F,M,L,I,J,N,O,K\""
   ]
  },
  {
   "cell_type": "markdown",
   "metadata": {},
   "source": [
    "Отсортированные столбцы матрицы `ISU2` в порядке возрастания столбцовых количеств отрицательных величин."
   ]
  },
  {
   "cell_type": "code",
   "execution_count": 15,
   "metadata": {},
   "outputs": [
    {
     "data": {
      "text/plain": [
       "15-element Array{Int64,1}:\n",
       "  1\n",
       "  2\n",
       "  3\n",
       "  4\n",
       "  5\n",
       "  6\n",
       "  7\n",
       "  8\n",
       " 10\n",
       "  9\n",
       " 11\n",
       " 12\n",
       " 13\n",
       " 14\n",
       " 15"
      ]
     },
     "execution_count": 15,
     "metadata": {},
     "output_type": "execute_result"
    }
   ],
   "source": [
    "U = sortperm(col_negs(ISU2))"
   ]
  },
  {
   "cell_type": "markdown",
   "metadata": {},
   "source": [
    "Отсортированные строки матрицы `ISU2` в порядке убывания строчных количеств отрицательных величин."
   ]
  },
  {
   "cell_type": "code",
   "execution_count": 16,
   "metadata": {},
   "outputs": [
    {
     "data": {
      "text/plain": [
       "15-element Array{Int64,1}:\n",
       "  1\n",
       "  2\n",
       "  3\n",
       "  4\n",
       "  5\n",
       "  6\n",
       "  7\n",
       "  8\n",
       " 10\n",
       " 11\n",
       "  9\n",
       " 13\n",
       " 12\n",
       " 14\n",
       " 15"
      ]
     },
     "execution_count": 16,
     "metadata": {},
     "output_type": "execute_result"
    }
   ],
   "source": [
    "V = reverse(sortperm(row_negs(ISU2)))"
   ]
  },
  {
   "cell_type": "markdown",
   "metadata": {},
   "source": [
    "Сумма всех отрицательных величин в «облегчённой» матрице потерь `ISU2`:"
   ]
  },
  {
   "cell_type": "code",
   "execution_count": 17,
   "metadata": {},
   "outputs": [
    {
     "data": {
      "text/plain": [
       "-735"
      ]
     },
     "execution_count": 17,
     "metadata": {},
     "output_type": "execute_result"
    }
   ],
   "source": [
    "sum(ISU2[ISU2.<0]) # -735"
   ]
  },
  {
   "cell_type": "markdown",
   "metadata": {},
   "source": [
    "Наддиагональная сумма величин при воздействии на матрицу `ISU2` перестановкой `V`:"
   ]
  },
  {
   "cell_type": "code",
   "execution_count": 18,
   "metadata": {},
   "outputs": [
    {
     "data": {
      "text/plain": [
       "-733"
      ]
     },
     "execution_count": 18,
     "metadata": {},
     "output_type": "execute_result"
    }
   ],
   "source": [
    "upper_sum(ISU2[V,V]) # -733"
   ]
  },
  {
   "cell_type": "markdown",
   "metadata": {},
   "source": [
    "Она отличается от оптимальной на величину одного переставленного значения $-1$."
   ]
  },
  {
   "cell_type": "code",
   "execution_count": 19,
   "metadata": {},
   "outputs": [
    {
     "data": {
      "text/plain": [
       "15×15 Array{Int64,2}:\n",
       " 0  -3  -3  -5  -9  -9  -9  -9  -9  -9  -9  -9  -9  -9  -9\n",
       " 3   0  -1  -5  -9  -9  -9  -9  -9  -9  -9  -9  -9  -9  -9\n",
       " 3   1   0  -9  -9  -9  -7  -9  -9  -9  -9  -9  -9  -9  -9\n",
       " 5   5   9   0  -1  -1  -5  -7  -9  -9  -9  -9  -9  -9  -9\n",
       " 9   9   9   1   0  -3  -3  -5  -9  -9  -9  -9  -9  -9  -9\n",
       " 9   9   9   1   3   0  -3  -1  -9  -9  -9  -9  -9  -9  -9\n",
       " 9   9   7   5   3   3   0  -1  -7  -9  -9  -9  -7  -9  -9\n",
       " 9   9   9   7   5   1   1   0  -7  -9  -9  -9  -9  -9  -9\n",
       " 9   9   9   9   9   9   7   7   0  -3  -1  -1  -3  -5  -9\n",
       " 9   9   9   9   9   9   9   9   3   0  -1  -1   1  -1  -7\n",
       " 9   9   9   9   9   9   9   9   1   1   0  -1  -3  -5  -9\n",
       " 9   9   9   9   9   9   9   9   1   1   1   0  -1  -3  -7\n",
       " 9   9   9   9   9   9   7   9   3  -1   3   1   0  -3  -7\n",
       " 9   9   9   9   9   9   9   9   5   1   5   3   3   0  -3\n",
       " 9   9   9   9   9   9   9   9   9   7   9   7   7   3   0"
      ]
     },
     "execution_count": 19,
     "metadata": {},
     "output_type": "execute_result"
    }
   ],
   "source": [
    "ISU2[V,V]"
   ]
  },
  {
   "cell_type": "markdown",
   "metadata": {},
   "source": [
    "Этот результат тоже не может быть улучшен, поскольку имеется неустранимое\n",
    "превышение столбцовых и строчных сумм отрицательных значений."
   ]
  },
  {
   "cell_type": "code",
   "execution_count": 20,
   "metadata": {},
   "outputs": [
    {
     "data": {
      "text/plain": [
       "1"
      ]
     },
     "execution_count": 20,
     "metadata": {},
     "output_type": "execute_result"
    }
   ],
   "source": [
    "sum_above_cols(ISU2)"
   ]
  },
  {
   "cell_type": "code",
   "execution_count": 21,
   "metadata": {},
   "outputs": [
    {
     "data": {
      "text/plain": [
       "1"
      ]
     },
     "execution_count": 21,
     "metadata": {},
     "output_type": "execute_result"
    }
   ],
   "source": [
    "sum_above_rows(ISU2)"
   ]
  },
  {
   "cell_type": "markdown",
   "metadata": {},
   "source": [
    "## Выводы"
   ]
  },
  {
   "cell_type": "markdown",
   "metadata": {},
   "source": [
    "Видно, что результат (искомая оптимальная перестановка) --- один и тот же в обоих\n",
    "вариантах (`Q` и `V` одинаковы), различаются лишь точные значения оптимального\n",
    "и достигаемого минимумов."
   ]
  },
  {
   "cell_type": "code",
   "execution_count": 22,
   "metadata": {},
   "outputs": [
    {
     "name": "stdout",
     "output_type": "stream",
     "text": [
      "[1, 2, 3, 4, 5, 6, 7, 8, 10, 11, 9, 13, 12, 14, 15]\n",
      "[1, 2, 3, 4, 5, 6, 7, 8, 10, 11, 9, 13, 12, 14, 15]"
     ]
    }
   ],
   "source": [
    "println(Q)\n",
    "print(V)"
   ]
  },
  {
   "cell_type": "markdown",
   "metadata": {},
   "source": [
    "При этом полученный результат не совпадает с приводимым в статье, хотя его\n",
    "правильность подтверждается выводом состояния «облегчённой» матрицы потерь\n",
    "после перестановки строк/столбцов)."
   ]
  },
  {
   "cell_type": "code",
   "execution_count": null,
   "metadata": {},
   "outputs": [],
   "source": []
  }
 ],
 "metadata": {
  "kernelspec": {
   "display_name": "Julia 1.4.1",
   "language": "julia",
   "name": "julia-1.4"
  },
  "language_info": {
   "file_extension": ".jl",
   "mimetype": "application/julia",
   "name": "julia",
   "version": "1.4.1"
  }
 },
 "nbformat": 4,
 "nbformat_minor": 4
}
