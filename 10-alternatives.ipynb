{
 "cells": [
  {
   "cell_type": "markdown",
   "metadata": {},
   "source": [
    "# «Облегчённые» матрицы потерь: 10 альтернатив"
   ]
  },
  {
   "cell_type": "code",
   "execution_count": 1,
   "metadata": {},
   "outputs": [
    {
     "data": {
      "text/plain": [
       "FindMinima (generic function with 2 methods)"
      ]
     },
     "execution_count": 1,
     "metadata": {},
     "output_type": "execute_result"
    }
   ],
   "source": [
    "using Rankings\n",
    "include(\"FindScoreMatrixMinima.jl\")"
   ]
  },
  {
   "cell_type": "markdown",
   "metadata": {},
   "source": [
    "## Ravikumar (2016)"
   ]
  },
  {
   "cell_type": "markdown",
   "metadata": {},
   "source": [
    "Pradeep Ravikumar. **The Distributional Rank Aggregation Problem, and an Axiomatic Analysis**.  ([PDF](http://www.cmapx.polytechnique.fr/~zoltan.szabo/ml_external_seminar/Pradeep_Ravikumar_external_seminar_05_01_2016_slides.pdf))"
   ]
  },
  {
   "cell_type": "markdown",
   "metadata": {},
   "source": [
    "Альтернативам, приводимым на слайде 4, сопоставлены буквы латиницы и в соответствии с ранжированиями экспертов объединены в группы с одинаковыми значениями рангов. Сами ранжирования скомбинированы в «облегчённую» матрицу потерь."
   ]
  },
  {
   "cell_type": "code",
   "execution_count": 2,
   "metadata": {},
   "outputs": [
    {
     "data": {
      "text/plain": [
       "10×10 Array{Int64,2}:\n",
       "  0  -1   1  -2  -1  -1   1   0   1  0\n",
       "  1   0   4   0   0   1   1  -1   2  4\n",
       " -1  -4   0  -2  -2  -3  -1  -3   0  1\n",
       "  2   0   2   0  -1   1   2   0   3  2\n",
       "  1   0   2   1   0   1   0  -2   1  3\n",
       "  1  -1   3  -1  -1   0   0  -1   2  3\n",
       " -1  -1   1  -2   0   0   0   0   0  1\n",
       "  0   1   3   0   2   1   0   0   1  3\n",
       " -1  -2   0  -3  -1  -2   0  -1   0  1\n",
       "  0  -4  -1  -2  -3  -3  -1  -3  -1  0"
      ]
     },
     "execution_count": 2,
     "metadata": {},
     "output_type": "execute_result"
    }
   ],
   "source": [
    "Ravikumar2016 = ranking\"F,(D,G,H),(A,C),(B,E,J),I\"⦸\n",
    "                ranking\"(I,J),(B,C,E),(A,H),G,(D,F)\"⦸\n",
    "                ranking\"G,(A,C,I,J),(B,D,F),(E,H)\"⦸\n",
    "                ranking\"(E,J),C,H,(B,F,G,I),(A,D)\"⦸\n",
    "                ranking\"(A,I),(C,D,J),F,(B,E,G),H\""
   ]
  },
  {
   "cell_type": "code",
   "execution_count": 3,
   "metadata": {},
   "outputs": [
    {
     "name": "stderr",
     "output_type": "stream",
     "text": [
      "┌ Info: Sum of negative values is -61.\n",
      "└ @ Rankings ~/.julia/packages/Rankings/GfcmE/src/consensus.jl:192\n"
     ]
    },
    {
     "name": "stdout",
     "output_type": "stream",
     "text": [
      "Δ⁺(score_mat) = 0\n"
     ]
    },
    {
     "name": "stderr",
     "output_type": "stream",
     "text": [
      "┌ Info: col_optimize() stopped at [10, 3, 9, 7, 1, 6, 4, 5, 2, 8].\n",
      "└ @ Rankings ~/.julia/packages/Rankings/GfcmE/src/consensus.jl:165\n",
      "┌ Info: Upper-triangle sum is -61.\n",
      "└ @ Rankings ~/.julia/packages/Rankings/GfcmE/src/consensus.jl:166\n",
      "┌ Info: Collecting equivalent permutations...\n",
      "└ @ Rankings ~/.julia/packages/Rankings/GfcmE/src/consensus.jl:55\n",
      "┌ Info: row_optimize() stopped at [10, 3, 9, 7, 1, 6, 4, 5, 2, 8].\n",
      "└ @ Rankings ~/.julia/packages/Rankings/GfcmE/src/consensus.jl:183\n",
      "┌ Info: Upper-triangle sum is -61.\n",
      "└ @ Rankings ~/.julia/packages/Rankings/GfcmE/src/consensus.jl:184\n",
      "┌ Info: Collecting equivalent permutations...\n",
      "└ @ Rankings ~/.julia/packages/Rankings/GfcmE/src/consensus.jl:55\n",
      "┌ Info: Upper-triangle sum reached: -61\n",
      "└ @ Rankings ~/.julia/packages/Rankings/GfcmE/src/consensus.jl:212\n"
     ]
    },
    {
     "data": {
      "text/plain": [
       "9-element Array{Array{Int64,1},1}:\n",
       " [10, 3, 7, 9, 1, 6, 2, 4, 5, 8]\n",
       " [10, 3, 7, 9, 1, 6, 4, 2, 5, 8]\n",
       " [10, 3, 7, 9, 1, 6, 4, 5, 2, 8]\n",
       " [10, 3, 9, 7, 1, 6, 2, 4, 5, 8]\n",
       " [10, 3, 9, 7, 1, 6, 4, 2, 5, 8]\n",
       " [10, 3, 9, 7, 1, 6, 4, 5, 2, 8]\n",
       " [10, 9, 3, 7, 1, 6, 2, 4, 5, 8]\n",
       " [10, 9, 3, 7, 1, 6, 4, 2, 5, 8]\n",
       " [10, 9, 3, 7, 1, 6, 4, 5, 2, 8]"
      ]
     },
     "execution_count": 3,
     "metadata": {},
     "output_type": "execute_result"
    }
   ],
   "source": [
    "consensus(Ravikumar2016)"
   ]
  },
  {
   "cell_type": "code",
   "execution_count": 4,
   "metadata": {},
   "outputs": [
    {
     "name": "stdout",
     "output_type": "stream",
     "text": [
      "[10, 3, 7, 9, 1, 6, 2, 4, 5, 8] : -61\n",
      "[10, 3, 7, 9, 1, 6, 4, 2, 5, 8] : -61\n",
      "[10, 3, 7, 9, 1, 6, 4, 5, 2, 8] : -61\n",
      "[10, 3, 9, 7, 1, 6, 2, 4, 5, 8] : -61\n",
      "[10, 3, 9, 7, 1, 6, 4, 2, 5, 8] : -61\n",
      "[10, 3, 9, 7, 1, 6, 4, 5, 2, 8] : -61\n",
      "[10, 9, 3, 7, 1, 6, 2, 4, 5, 8] : -61\n",
      "[10, 9, 3, 7, 1, 6, 4, 2, 5, 8] : -61\n",
      "[10, 9, 3, 7, 1, 6, 4, 5, 2, 8] : -61\n"
     ]
    }
   ],
   "source": [
    "FindMinima(Ravikumar2016,-61)"
   ]
  },
  {
   "cell_type": "markdown",
   "metadata": {},
   "source": [
    "Фактически в примере для определения результирующих рангов альтернатив использована такая величина,\n",
    "как «сумма мест»: по значениям мест, которые получают альтернативы у разных экспертов (судей), --\n",
    "и это довольно сильно отличается от многочисленных (для этого примера) медиан Кемени.\n",
    "\n",
    "Самый высокий ранг у альтернативы 10, далее в примере идёт альтернатива 3 (хотя по оптимальным\n",
    "перестановкам видно, что может следовать и альтернатива 9), затем -- альтернатива 9 (хотя здесь\n",
    "могут следовать и 3, и 7), а за ней (в примере) с равными рангами -- 7 и 1 (хотя у всех перестановок\n",
    "1 стоит всегда на пятом месте, а вот 7 бывает и на третьем, и на четвёртом месте).\n",
    "\n",
    "Дальше начинаются расхождения того, что указано в примере, с реальностью (оптимальными перестановками).\n",
    "Альтернативы 6 и 5, эквивалентные по рангу в примере, на самом деле никогда даже не соседствуют\n",
    "в оптимальных перестановках. И хотя самой последней действительно всегда будет альтернатива 8,\n",
    "но перед ней никогда не располагается альтернатива 4...\n",
    "\n",
    "Одним словом, поскольку никакого превышения нет, а все отрицательные значения\n",
    "можно расположить над главной диагональю, множественность оптимальных перестановок\n",
    "определяется лишь наличием дополнительных нулевых значений вне диагонали. Кстати,\n",
    "в данном случае оптимальных перестановок столько же, сколько и нулевых значений\n",
    "в верхнем (или нижнем) треугольнике «облегчённой» матрицы потерь."
   ]
  }
 ],
 "metadata": {
  "kernelspec": {
   "display_name": "Julia 1.4.1",
   "language": "julia",
   "name": "julia-1.4"
  },
  "language_info": {
   "file_extension": ".jl",
   "mimetype": "application/julia",
   "name": "julia",
   "version": "1.4.1"
  }
 },
 "nbformat": 4,
 "nbformat_minor": 4
}
