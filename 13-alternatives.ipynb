{
 "cells": [
  {
   "cell_type": "markdown",
   "metadata": {},
   "source": [
    "# «Облегчённые» матрицы потерь: 13 альтернатив"
   ]
  },
  {
   "cell_type": "markdown",
   "metadata": {},
   "source": [
    "Используется пакет работы с ранжированиями `Rankings.jl`. Функция `FindMinima()` последовательного перебора всех перестановок из файла `FindScoreMatrixMinima.jl` будет здесь бесполезна -- из-за слишком большого их количества."
   ]
  },
  {
   "cell_type": "code",
   "execution_count": 1,
   "metadata": {},
   "outputs": [],
   "source": [
    "using Rankings"
   ]
  },
  {
   "cell_type": "markdown",
   "metadata": {},
   "source": [
    "## Муравьёв (2013)"
   ]
  },
  {
   "cell_type": "markdown",
   "metadata": {},
   "source": [
    "S.V. Muravyov. **Ordinal measurement, preference aggregation and interlaboratory comparisons.** *Measurement,* **46** (2013) 2927--2935. ([PDF](https://portal.tpu.ru/f_ic/files/international/publications/27.pdf))\n",
    "\n",
    "В статье альтернативы представлены лишь своими порядковыми номерами (см. страницу 2932, таблица 5); здесь они\n",
    "обозначаются символом `a` с соответствующими нижними индексами, поскольку\n",
    "в используемых пакетом `Rankings.jl` соглашениях о представлении ранжирований\n",
    "только цифрами могут быть записаны не более девяти ранжирований, причём не связанных."
   ]
  },
  {
   "cell_type": "code",
   "execution_count": 2,
   "metadata": {},
   "outputs": [
    {
     "data": {
      "text/plain": [
       "13×13 Array{Int64,2}:\n",
       "  0   1   1   0   0   0   0   3   5  7   6   1   0\n",
       " -1   0   0  -1  -1  -1  -1   2   4  6   5   0  -1\n",
       " -1   0   0  -1  -1  -1  -1   2   4  6   5   0  -1\n",
       "  0   1   1   0   0   0   0   3   5  7   6   1   0\n",
       "  0   1   1   0   0   0   0   3   5  7   6   1   0\n",
       "  0   1   1   0   0   0   0   3   5  7   6   1   0\n",
       "  0   1   1   0   0   0   0   3   5  7   6   1   0\n",
       " -3  -2  -2  -3  -3  -3  -3   0   2  4   3  -2  -3\n",
       " -5  -4  -4  -5  -5  -5  -5  -2   0  2   1  -4  -5\n",
       " -7  -6  -6  -7  -7  -7  -7  -4  -2  0  -1  -6  -7\n",
       " -6  -5  -5  -6  -6  -6  -6  -3  -1  1   0  -5  -6\n",
       " -1   0   0  -1  -1  -1  -1   2   4  6   5   0  -1\n",
       "  0   1   1   0   0   0   0   3   5  7   6   1   0"
      ]
     },
     "execution_count": 2,
     "metadata": {},
     "output_type": "execute_result"
    }
   ],
   "source": [
    "Муравьёв2013_2932_T5 = ranking\"a₁₀~a₁₁ a₀₁~a₀₂~a₀₃~a₀₄~a₀₅~a₀₆~a₀₇~a₀₈~a₀₉~a₁₂~a₁₃\"⦸\n",
    "                       ranking\"a₁₀ a₀₁~a₀₂~a₀₃~a₀₄~a₀₅~a₀₆~a₀₇~a₀₈~a₀₉~a₁₁~a₁₂~a₁₃\"⦸\n",
    "                       ranking\"a₁₀~a₁₁ a₀₁~a₀₂~a₀₃~a₀₄~a₀₅~a₀₆~a₀₇~a₀₈~a₀₉~a₁₂~a₁₃\"⦸\n",
    "                       ranking\"a₀₉~a₁₀~a₁₁ a₀₁~a₀₂~a₀₃~a₀₄~a₀₅~a₀₆~a₀₇~a₀₈~a₁₂~a₁₃\"⦸\n",
    "                       ranking\"a₀₈~a₀₉~a₁₀~a₁₁ a₁₂~a₀₁~a₀₂~a₀₃~a₀₄~a₀₅~a₀₆~a₀₇~a₁₃\"⦸\n",
    "                       ranking\"a₀₈~a₀₉~a₁₀ a₀₁~a₀₂~a₀₃~a₀₄~a₀₅~a₀₆~a₀₇~a₁₁~a₁₂~a₁₃\"⦸\n",
    "                       ranking\"a₁₁~a₁₂ a₀₁~a₀₂~a₀₃~a₀₄~a₀₅~a₀₆~a₀₇~a₀₈~a₀₉~a₁₀~a₁₃\"⦸\n",
    "                       ranking\"a₀₉~a₁₀~a₁₁ a₀₁~a₀₂~a₀₃~a₀₄~a₀₅~a₀₆~a₀₇~a₀₈~a₁₂~a₁₃\"⦸\n",
    "                       ranking\"a₀₂~a₀₃ a₀₁~a₀₄~a₀₅~a₀₆~a₀₇~a₀₈~a₀₉~a₁₀~a₁₁~a₁₂~a₁₃\"⦸\n",
    "                       ranking\"a₀₈~a₀₉ a₀₁~a₀₂~a₀₃~a₀₄~a₀₅~a₀₆~a₀₇~a₁₀~a₁₁~a₁₂~a₁₃\""
   ]
  },
  {
   "cell_type": "code",
   "execution_count": 3,
   "metadata": {},
   "outputs": [
    {
     "name": "stderr",
     "output_type": "stream",
     "text": [
      "┌ Info: Sum of negative values is -208.\n",
      "└ @ Rankings ~/.julia/packages/Rankings/GfcmE/src/consensus.jl:192\n"
     ]
    },
    {
     "name": "stdout",
     "output_type": "stream",
     "text": [
      "Δ⁺(score_mat) = 0\n"
     ]
    },
    {
     "name": "stderr",
     "output_type": "stream",
     "text": [
      "┌ Info: col_optimize() stopped at [10, 11, 9, 8, 2, 3, 12, 1, 4, 5, 6, 7, 13].\n",
      "└ @ Rankings ~/.julia/packages/Rankings/GfcmE/src/consensus.jl:165\n",
      "┌ Info: Upper-triangle sum is -208.\n",
      "└ @ Rankings ~/.julia/packages/Rankings/GfcmE/src/consensus.jl:166\n",
      "┌ Info: Collecting equivalent permutations...\n",
      "└ @ Rankings ~/.julia/packages/Rankings/GfcmE/src/consensus.jl:55\n",
      "┌ Info: row_optimize() stopped at [10, 11, 9, 8, 12, 3, 2, 13, 7, 6, 5, 4, 1].\n",
      "└ @ Rankings ~/.julia/packages/Rankings/GfcmE/src/consensus.jl:183\n",
      "┌ Info: Upper-triangle sum is -208.\n",
      "└ @ Rankings ~/.julia/packages/Rankings/GfcmE/src/consensus.jl:184\n",
      "┌ Info: Collecting equivalent permutations...\n",
      "└ @ Rankings ~/.julia/packages/Rankings/GfcmE/src/consensus.jl:55\n",
      "┌ Info: Upper-triangle sum reached: -208\n",
      "└ @ Rankings ~/.julia/packages/Rankings/GfcmE/src/consensus.jl:212\n"
     ]
    },
    {
     "data": {
      "text/plain": [
       "4320-element Array{Array{Int64,1},1}:\n",
       " [10, 11, 9, 8, 2, 3, 12, 1, 4, 5, 6, 7, 13]\n",
       " [10, 11, 9, 8, 2, 3, 12, 1, 4, 5, 6, 13, 7]\n",
       " [10, 11, 9, 8, 2, 3, 12, 1, 4, 5, 7, 6, 13]\n",
       " [10, 11, 9, 8, 2, 3, 12, 1, 4, 5, 7, 13, 6]\n",
       " [10, 11, 9, 8, 2, 3, 12, 1, 4, 5, 13, 6, 7]\n",
       " [10, 11, 9, 8, 2, 3, 12, 1, 4, 5, 13, 7, 6]\n",
       " [10, 11, 9, 8, 2, 3, 12, 1, 4, 6, 5, 7, 13]\n",
       " [10, 11, 9, 8, 2, 3, 12, 1, 4, 6, 5, 13, 7]\n",
       " [10, 11, 9, 8, 2, 3, 12, 1, 4, 6, 7, 5, 13]\n",
       " [10, 11, 9, 8, 2, 3, 12, 1, 4, 6, 7, 13, 5]\n",
       " [10, 11, 9, 8, 2, 3, 12, 1, 4, 6, 13, 5, 7]\n",
       " [10, 11, 9, 8, 2, 3, 12, 1, 4, 6, 13, 7, 5]\n",
       " [10, 11, 9, 8, 2, 3, 12, 1, 4, 7, 5, 6, 13]\n",
       " ⋮\n",
       " [10, 11, 9, 8, 12, 3, 2, 13, 7, 5, 1, 4, 6]\n",
       " [10, 11, 9, 8, 12, 3, 2, 13, 7, 5, 1, 6, 4]\n",
       " [10, 11, 9, 8, 12, 3, 2, 13, 7, 5, 4, 1, 6]\n",
       " [10, 11, 9, 8, 12, 3, 2, 13, 7, 5, 4, 6, 1]\n",
       " [10, 11, 9, 8, 12, 3, 2, 13, 7, 5, 6, 1, 4]\n",
       " [10, 11, 9, 8, 12, 3, 2, 13, 7, 5, 6, 4, 1]\n",
       " [10, 11, 9, 8, 12, 3, 2, 13, 7, 6, 1, 4, 5]\n",
       " [10, 11, 9, 8, 12, 3, 2, 13, 7, 6, 1, 5, 4]\n",
       " [10, 11, 9, 8, 12, 3, 2, 13, 7, 6, 4, 1, 5]\n",
       " [10, 11, 9, 8, 12, 3, 2, 13, 7, 6, 4, 5, 1]\n",
       " [10, 11, 9, 8, 12, 3, 2, 13, 7, 6, 5, 1, 4]\n",
       " [10, 11, 9, 8, 12, 3, 2, 13, 7, 6, 5, 4, 1]"
      ]
     },
     "execution_count": 3,
     "metadata": {},
     "output_type": "execute_result"
    }
   ],
   "source": [
    "consensus(Муравьёв2013_2932_T5)"
   ]
  },
  {
   "cell_type": "markdown",
   "metadata": {},
   "source": [
    "Таким образом, нашлись 4320 перестановок (а не 1440, как указано в статье).\n",
    "Структура всех 4320 оптимальных ранжирований одинакова: первыми всегда будут\n",
    "альтернативы 10, 11, 9, 8 -- в указанном порядке. Затем (на следующих трёх позициях)\n",
    "следуют все перестановки альтернатив 2, 3, 12 (6 вариантов). Последние шесть позиций\n",
    "занимают все перестановки альтернатив 1, 4, 5, 6, 7, 13 (720 вариантов). Итого --\n",
    "4320 варианта оптимальных расположений тринадцати альтернатив для заданных десяти\n",
    "ранжирований.\n",
    "\n",
    "Поскольку это не первый наблюдаемый случай получения не всех медиан Кемени\n",
    "с помощью метода ветвей и границ (Branch&Bound), создаётся впечатление, что\n",
    "либо реализация алгоритма не слишком точна, либо сам алгоритм Branch&Bound\n",
    "не в состоянии найти все медианы Кемени..."
   ]
  }
 ],
 "metadata": {
  "kernelspec": {
   "display_name": "Julia 1.4.1",
   "language": "julia",
   "name": "julia-1.4"
  },
  "language_info": {
   "file_extension": ".jl",
   "mimetype": "application/julia",
   "name": "julia",
   "version": "1.4.1"
  }
 },
 "nbformat": 4,
 "nbformat_minor": 4
}
