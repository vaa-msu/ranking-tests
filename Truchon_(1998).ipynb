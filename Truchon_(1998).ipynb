{
 "cells": [
  {
   "cell_type": "markdown",
   "metadata": {},
   "source": [
    "# Truchon (1998)"
   ]
  },
  {
   "cell_type": "markdown",
   "metadata": {},
   "source": [
    "Truchon, M. **Figure Skating and the Theory of Social Choice.** *Cahier de recherche 9814,\n",
    "Département d'économique, Université Laval,* October 1998. ([PDF](https://core.ac.uk/download/pdf/7227062.pdf))"
   ]
  },
  {
   "cell_type": "markdown",
   "metadata": {},
   "source": [
    "Для преобразования принятой здесь (и в литературе) записи набора ранжирований используется\n",
    "специально созданный для этой цели пакет [Rankings.jl](https://github.com/vaa-msu/Rankings.jl)."
   ]
  },
  {
   "cell_type": "code",
   "execution_count": 1,
   "metadata": {},
   "outputs": [],
   "source": [
    "# using Pkg; Pkg.clone(\"https://github.com/vaa-msu/Rankings.jl\") # Для установки пакета\n",
    "using Rankings"
   ]
  },
  {
   "cell_type": "markdown",
   "metadata": {},
   "source": [
    "## Приводимый в статье вариант"
   ]
  },
  {
   "cell_type": "markdown",
   "metadata": {},
   "source": [
    "Первый проверяемый вариант полностью совпадает с приводимым в статье, хотя имеются\n",
    "основания считать, что там закрались опечатки (в таблице 1 в первом столбце одинаковы\n",
    "оценки судей для `E` и `F` -- 4, а в столбце 5 этой же таблицы снова одинаковы оценки\n",
    "для `A` и `B` -- 1); название профиля, альтернатив и соответствующей «облегчённой»\n",
    "матрицы потерь взяты из статьи (т.н. ISU example)."
   ]
  },
  {
   "cell_type": "code",
   "execution_count": 2,
   "metadata": {},
   "outputs": [
    {
     "data": {
      "text/plain": [
       "15×15 Array{Int64,2}:\n",
       " 0  -2  -3  -5  -9  -9  -9  -9  -9  -9  -9  -9  -9  -9  -9\n",
       " 2   0  -1  -5  -9  -9  -9  -9  -9  -9  -9  -9  -9  -9  -9\n",
       " 3   1   0  -9  -9  -9  -7  -9  -9  -9  -9  -9  -9  -9  -9\n",
       " 5   5   9   0  -1  -1  -5  -7  -9  -9  -9  -9  -9  -9  -9\n",
       " 9   9   9   1   0  -2  -3  -5  -9  -9  -9  -9  -9  -9  -9\n",
       " 9   9   9   1   2   0  -3  -1  -9  -9  -9  -9  -9  -9  -9\n",
       " 9   9   7   5   3   3   0  -1  -9  -7  -9  -7  -9  -9  -9\n",
       " 9   9   9   7   5   1   1   0  -9  -7  -9  -9  -9  -9  -9\n",
       " 9   9   9   9   9   9   9   9   0   1   1  -3  -1  -5  -9\n",
       " 9   9   9   9   9   9   7   7  -1   0  -3  -3  -1  -5  -9\n",
       " 9   9   9   9   9   9   9   9  -1   3   0   1  -1  -1  -7\n",
       " 9   9   9   9   9   9   7   9   3   3  -1   0   1  -3  -7\n",
       " 9   9   9   9   9   9   9   9   1   1   1  -1   0  -3  -7\n",
       " 9   9   9   9   9   9   9   9   5   5   1   3   3   0  -3\n",
       " 9   9   9   9   9   9   9   9   9   9   7   7   7   3   0"
      ]
     },
     "execution_count": 2,
     "metadata": {},
     "output_type": "execute_result"
    }
   ],
   "source": [
    "Truchon1998₁ = ranking\"A,C,B,(E,F),D,H,G,M,K,I,J,L,O,N\"⦸\n",
    "               ranking\"A,C,B,E,F,D,H,G,J,I,L,K,M,O,N\"⦸\n",
    "               ranking\"A,B,G,C,D,E,H,F,M,N,K,I,J,L,O\"⦸\n",
    "               ranking\"A,B,C,E,H,D,F,L,G,K,J,I,N,M,O\"⦸\n",
    "               ranking\"(A,B),C,D,F,H,E,J,G,I,L,N,K,O,M\"⦸\n",
    "               ranking\"B,C,A,F,G,E,D,J,H,K,I,N,L,M,O\"⦸\n",
    "               ranking\"A,B,C,F,D,G,H,E,M,N,L,I,J,K,O\"⦸\n",
    "               ranking\"C,D,B,A,E,G,H,F,J,K,I,M,O,L,N\"⦸\n",
    "               ranking\"C,D,B,A,E,G,H,F,M,L,I,J,N,O,K\""
   ]
  },
  {
   "cell_type": "markdown",
   "metadata": {},
   "source": [
    "Проверка, что не имеет места самый простой случай: различия всех столбцовых\n",
    "и всех строчных количеств отрицательных значений."
   ]
  },
  {
   "cell_type": "code",
   "execution_count": 3,
   "metadata": {},
   "outputs": [
    {
     "data": {
      "text/plain": [
       "false"
      ]
     },
     "execution_count": 3,
     "metadata": {},
     "output_type": "execute_result"
    }
   ],
   "source": [
    "Rankings.is_straight(Truchon1998₁)"
   ]
  },
  {
   "cell_type": "markdown",
   "metadata": {},
   "source": [
    "Проверка наличия «неустранимых» превышений в столбцовых и строчных количествах."
   ]
  },
  {
   "cell_type": "code",
   "execution_count": 4,
   "metadata": {},
   "outputs": [
    {
     "data": {
      "text/plain": [
       "true"
      ]
     },
     "execution_count": 4,
     "metadata": {},
     "output_type": "execute_result"
    }
   ],
   "source": [
    "Rankings.is_crossing(Truchon1998₁)"
   ]
  },
  {
   "cell_type": "markdown",
   "metadata": {},
   "source": [
    "Максимальное количество «выходящих» за допустимые пределы столбцов/строк:"
   ]
  },
  {
   "cell_type": "code",
   "execution_count": 5,
   "metadata": {},
   "outputs": [
    {
     "data": {
      "text/plain": [
       "1"
      ]
     },
     "execution_count": 5,
     "metadata": {},
     "output_type": "execute_result"
    }
   ],
   "source": [
    "Rankings.Δ⁺(Truchon1998₁)"
   ]
  },
  {
   "cell_type": "markdown",
   "metadata": {},
   "source": [
    "Отсортированные столбцы матрицы `Truchon1998₁` в порядке возрастания столбцовых количеств отрицательных величин."
   ]
  },
  {
   "cell_type": "code",
   "execution_count": 6,
   "metadata": {},
   "outputs": [
    {
     "name": "stdout",
     "output_type": "stream",
     "text": [
      "[1, 2, 3, 4, 5, 6, 7, 8, 10, 9, 11, 12, 13, 14, 15]"
     ]
    }
   ],
   "source": [
    "P = sortperm(Rankings.col_negs(Truchon1998₁));\n",
    "print(P)"
   ]
  },
  {
   "cell_type": "markdown",
   "metadata": {},
   "source": [
    "«Облегчённая» матрица потерь `Truchon1998₁` после перестановки её строк/столбцов с помощью `P`:"
   ]
  },
  {
   "cell_type": "code",
   "execution_count": 7,
   "metadata": {},
   "outputs": [
    {
     "data": {
      "text/plain": [
       "15×15 Array{Int64,2}:\n",
       " 0  -2  -3  -5  -9  -9  -9  -9  -9  -9  -9  -9  -9  -9  -9\n",
       " 2   0  -1  -5  -9  -9  -9  -9  -9  -9  -9  -9  -9  -9  -9\n",
       " 3   1   0  -9  -9  -9  -7  -9  -9  -9  -9  -9  -9  -9  -9\n",
       " 5   5   9   0  -1  -1  -5  -7  -9  -9  -9  -9  -9  -9  -9\n",
       " 9   9   9   1   0  -2  -3  -5  -9  -9  -9  -9  -9  -9  -9\n",
       " 9   9   9   1   2   0  -3  -1  -9  -9  -9  -9  -9  -9  -9\n",
       " 9   9   7   5   3   3   0  -1  -7  -9  -9  -7  -9  -9  -9\n",
       " 9   9   9   7   5   1   1   0  -7  -9  -9  -9  -9  -9  -9\n",
       " 9   9   9   9   9   9   7   7   0  -1  -3  -3  -1  -5  -9\n",
       " 9   9   9   9   9   9   9   9   1   0   1  -3  -1  -5  -9\n",
       " 9   9   9   9   9   9   9   9   3  -1   0   1  -1  -1  -7\n",
       " 9   9   9   9   9   9   7   9   3   3  -1   0   1  -3  -7\n",
       " 9   9   9   9   9   9   9   9   1   1   1  -1   0  -3  -7\n",
       " 9   9   9   9   9   9   9   9   5   5   1   3   3   0  -3\n",
       " 9   9   9   9   9   9   9   9   9   9   7   7   7   3   0"
      ]
     },
     "execution_count": 7,
     "metadata": {},
     "output_type": "execute_result"
    }
   ],
   "source": [
    "Truchon1998₁[P,P]"
   ]
  },
  {
   "cell_type": "markdown",
   "metadata": {},
   "source": [
    "Отсортированные строки матрицы `Truchon1998₁` в порядке убывания строчных количеств отрицательных величин."
   ]
  },
  {
   "cell_type": "code",
   "execution_count": 8,
   "metadata": {},
   "outputs": [
    {
     "name": "stdout",
     "output_type": "stream",
     "text": [
      "[1, 2, 3, 4, 5, 6, 7, 8, 10, 11, 9, 13, 12, 14, 15]"
     ]
    }
   ],
   "source": [
    "Q = reverse(sortperm(Rankings.row_negs(Truchon1998₁)));\n",
    "print(Q)"
   ]
  },
  {
   "cell_type": "markdown",
   "metadata": {},
   "source": [
    "«Облегчённая» матрица потерь `Truchon1998₁` после перестановки её строк/столбцов с помощью `Q`:"
   ]
  },
  {
   "cell_type": "code",
   "execution_count": 9,
   "metadata": {},
   "outputs": [
    {
     "data": {
      "text/plain": [
       "15×15 Array{Int64,2}:\n",
       " 0  -2  -3  -5  -9  -9  -9  -9  -9  -9  -9  -9  -9  -9  -9\n",
       " 2   0  -1  -5  -9  -9  -9  -9  -9  -9  -9  -9  -9  -9  -9\n",
       " 3   1   0  -9  -9  -9  -7  -9  -9  -9  -9  -9  -9  -9  -9\n",
       " 5   5   9   0  -1  -1  -5  -7  -9  -9  -9  -9  -9  -9  -9\n",
       " 9   9   9   1   0  -2  -3  -5  -9  -9  -9  -9  -9  -9  -9\n",
       " 9   9   9   1   2   0  -3  -1  -9  -9  -9  -9  -9  -9  -9\n",
       " 9   9   7   5   3   3   0  -1  -7  -9  -9  -9  -7  -9  -9\n",
       " 9   9   9   7   5   1   1   0  -7  -9  -9  -9  -9  -9  -9\n",
       " 9   9   9   9   9   9   7   7   0  -3  -1  -1  -3  -5  -9\n",
       " 9   9   9   9   9   9   9   9   3   0  -1  -1   1  -1  -7\n",
       " 9   9   9   9   9   9   9   9   1   1   0  -1  -3  -5  -9\n",
       " 9   9   9   9   9   9   9   9   1   1   1   0  -1  -3  -7\n",
       " 9   9   9   9   9   9   7   9   3  -1   3   1   0  -3  -7\n",
       " 9   9   9   9   9   9   9   9   5   1   5   3   3   0  -3\n",
       " 9   9   9   9   9   9   9   9   9   7   9   7   7   3   0"
      ]
     },
     "execution_count": 9,
     "metadata": {},
     "output_type": "execute_result"
    }
   ],
   "source": [
    "Truchon1998₁[Q,Q]"
   ]
  },
  {
   "cell_type": "markdown",
   "metadata": {},
   "source": [
    "Сумма всех отрицательных величин в «облегчённой» матрице потерь `Truchon1998₁`:"
   ]
  },
  {
   "cell_type": "code",
   "execution_count": 10,
   "metadata": {},
   "outputs": [
    {
     "data": {
      "text/plain": [
       "-733"
      ]
     },
     "execution_count": 10,
     "metadata": {},
     "output_type": "execute_result"
    }
   ],
   "source": [
    "sum(Truchon1998₁[Truchon1998₁.<0]) # -733"
   ]
  },
  {
   "cell_type": "markdown",
   "metadata": {},
   "source": [
    "Наддиагональная сумма величин при воздействии на матрицу `Truchon1998₁` перестановкой `Q`:"
   ]
  },
  {
   "cell_type": "code",
   "execution_count": 11,
   "metadata": {},
   "outputs": [
    {
     "data": {
      "text/plain": [
       "-731"
      ]
     },
     "execution_count": 11,
     "metadata": {},
     "output_type": "execute_result"
    }
   ],
   "source": [
    "Rankings.upper_sum(Truchon1998₁[Q,Q]) # -731"
   ]
  },
  {
   "cell_type": "markdown",
   "metadata": {},
   "source": [
    "Наддиагональная сумма после перестановки `Q` отличается от оптимальной на величину\n",
    "одного переставленного значения $-1$. Этот результат является неулучшаемым, поскольку\n",
    "упомянутые выше превышения неустранимы."
   ]
  },
  {
   "cell_type": "markdown",
   "metadata": {},
   "source": [
    "## Исправленный вариант (без совпадений рангов альтернатив)"
   ]
  },
  {
   "cell_type": "markdown",
   "metadata": {},
   "source": [
    "Второй проверяемый вариант с исправленными (предполагаемыми) опечатками (нет одинаковых\n",
    "рангов у альтернатив `A,B,C,D,E,F,G,H,I,J,K,L,M,N,O` ни для одного из судей)."
   ]
  },
  {
   "cell_type": "code",
   "execution_count": 12,
   "metadata": {},
   "outputs": [
    {
     "data": {
      "text/plain": [
       "15×15 Array{Int64,2}:\n",
       " 0  -3  -3  -5  -9  -9  -9  -9  -9  -9  -9  -9  -9  -9  -9\n",
       " 3   0  -1  -5  -9  -9  -9  -9  -9  -9  -9  -9  -9  -9  -9\n",
       " 3   1   0  -9  -9  -9  -7  -9  -9  -9  -9  -9  -9  -9  -9\n",
       " 5   5   9   0  -1  -1  -5  -7  -9  -9  -9  -9  -9  -9  -9\n",
       " 9   9   9   1   0  -3  -3  -5  -9  -9  -9  -9  -9  -9  -9\n",
       " 9   9   9   1   3   0  -3  -1  -9  -9  -9  -9  -9  -9  -9\n",
       " 9   9   7   5   3   3   0  -1  -9  -7  -9  -7  -9  -9  -9\n",
       " 9   9   9   7   5   1   1   0  -9  -7  -9  -9  -9  -9  -9\n",
       " 9   9   9   9   9   9   9   9   0   1   1  -3  -1  -5  -9\n",
       " 9   9   9   9   9   9   7   7  -1   0  -3  -3  -1  -5  -9\n",
       " 9   9   9   9   9   9   9   9  -1   3   0   1  -1  -1  -7\n",
       " 9   9   9   9   9   9   7   9   3   3  -1   0   1  -3  -7\n",
       " 9   9   9   9   9   9   9   9   1   1   1  -1   0  -3  -7\n",
       " 9   9   9   9   9   9   9   9   5   5   1   3   3   0  -3\n",
       " 9   9   9   9   9   9   9   9   9   9   7   7   7   3   0"
      ]
     },
     "execution_count": 12,
     "metadata": {},
     "output_type": "execute_result"
    }
   ],
   "source": [
    "Truchon1998₂ = ranking\"A,C,B,E,F,D,H,G,M,K,I,J,L,O,N\"⦸\n",
    "               ranking\"A,C,B,E,F,D,H,G,J,I,L,K,M,O,N\"⦸\n",
    "               ranking\"A,B,G,C,D,E,H,F,M,N,K,I,J,L,O\"⦸\n",
    "               ranking\"A,B,C,E,H,D,F,L,G,K,J,I,N,M,O\"⦸\n",
    "               ranking\"A,B,C,D,F,H,E,J,G,I,L,N,K,O,M\"⦸\n",
    "               ranking\"B,C,A,F,G,E,D,J,H,K,I,N,L,M,O\"⦸\n",
    "               ranking\"A,B,C,F,D,G,H,E,M,N,L,I,J,K,O\"⦸\n",
    "               ranking\"C,D,B,A,E,G,H,F,J,K,I,M,O,L,N\"⦸\n",
    "               ranking\"C,D,B,A,E,G,H,F,M,L,I,J,N,O,K\""
   ]
  },
  {
   "cell_type": "markdown",
   "metadata": {},
   "source": [
    "Отсортированные столбцы матрицы `Truchon1998₂` в порядке возрастания столбцовых количеств отрицательных величин."
   ]
  },
  {
   "cell_type": "code",
   "execution_count": 13,
   "metadata": {},
   "outputs": [
    {
     "name": "stdout",
     "output_type": "stream",
     "text": [
      "[1, 2, 3, 4, 5, 6, 7, 8, 10, 9, 11, 12, 13, 14, 15]"
     ]
    }
   ],
   "source": [
    "U = sortperm(Rankings.col_negs(Truchon1998₂));\n",
    "print(U)"
   ]
  },
  {
   "cell_type": "markdown",
   "metadata": {},
   "source": [
    "Отсортированные строки матрицы `Truchon1998₂` в порядке убывания строчных количеств отрицательных величин."
   ]
  },
  {
   "cell_type": "code",
   "execution_count": 14,
   "metadata": {},
   "outputs": [
    {
     "name": "stdout",
     "output_type": "stream",
     "text": [
      "[1, 2, 3, 4, 5, 6, 7, 8, 10, 11, 9, 13, 12, 14, 15]"
     ]
    }
   ],
   "source": [
    "V = reverse(sortperm(Rankings.row_negs(Truchon1998₂)));\n",
    "print(V)"
   ]
  },
  {
   "cell_type": "markdown",
   "metadata": {},
   "source": [
    "Сумма всех отрицательных величин в «облегчённой» матрице потерь `Truchon1998₂`:"
   ]
  },
  {
   "cell_type": "code",
   "execution_count": 15,
   "metadata": {},
   "outputs": [
    {
     "data": {
      "text/plain": [
       "-735"
      ]
     },
     "execution_count": 15,
     "metadata": {},
     "output_type": "execute_result"
    }
   ],
   "source": [
    "sum(Truchon1998₂[Truchon1998₂.<0]) # -735"
   ]
  },
  {
   "cell_type": "markdown",
   "metadata": {},
   "source": [
    "Наддиагональная сумма величин при воздействии на матрицу `Truchon1998₂` перестановкой `V`:"
   ]
  },
  {
   "cell_type": "code",
   "execution_count": 16,
   "metadata": {},
   "outputs": [
    {
     "data": {
      "text/plain": [
       "-733"
      ]
     },
     "execution_count": 16,
     "metadata": {},
     "output_type": "execute_result"
    }
   ],
   "source": [
    "Rankings.upper_sum(Truchon1998₂[V,V]) # -733"
   ]
  },
  {
   "cell_type": "markdown",
   "metadata": {},
   "source": [
    "Она отличается от оптимальной на величину одного переставленного значения $-1$."
   ]
  },
  {
   "cell_type": "code",
   "execution_count": 17,
   "metadata": {},
   "outputs": [
    {
     "data": {
      "text/plain": [
       "15×15 Array{Int64,2}:\n",
       " 0  -3  -3  -5  -9  -9  -9  -9  -9  -9  -9  -9  -9  -9  -9\n",
       " 3   0  -1  -5  -9  -9  -9  -9  -9  -9  -9  -9  -9  -9  -9\n",
       " 3   1   0  -9  -9  -9  -7  -9  -9  -9  -9  -9  -9  -9  -9\n",
       " 5   5   9   0  -1  -1  -5  -7  -9  -9  -9  -9  -9  -9  -9\n",
       " 9   9   9   1   0  -3  -3  -5  -9  -9  -9  -9  -9  -9  -9\n",
       " 9   9   9   1   3   0  -3  -1  -9  -9  -9  -9  -9  -9  -9\n",
       " 9   9   7   5   3   3   0  -1  -7  -9  -9  -9  -7  -9  -9\n",
       " 9   9   9   7   5   1   1   0  -7  -9  -9  -9  -9  -9  -9\n",
       " 9   9   9   9   9   9   7   7   0  -3  -1  -1  -3  -5  -9\n",
       " 9   9   9   9   9   9   9   9   3   0  -1  -1   1  -1  -7\n",
       " 9   9   9   9   9   9   9   9   1   1   0  -1  -3  -5  -9\n",
       " 9   9   9   9   9   9   9   9   1   1   1   0  -1  -3  -7\n",
       " 9   9   9   9   9   9   7   9   3  -1   3   1   0  -3  -7\n",
       " 9   9   9   9   9   9   9   9   5   1   5   3   3   0  -3\n",
       " 9   9   9   9   9   9   9   9   9   7   9   7   7   3   0"
      ]
     },
     "execution_count": 17,
     "metadata": {},
     "output_type": "execute_result"
    }
   ],
   "source": [
    "Truchon1998₂[V,V]"
   ]
  },
  {
   "cell_type": "markdown",
   "metadata": {},
   "source": [
    "Этот результат тоже не может быть улучшен, поскольку имеется неустранимое\n",
    "превышение столбцовых и строчных сумм отрицательных значений."
   ]
  },
  {
   "cell_type": "code",
   "execution_count": 18,
   "metadata": {},
   "outputs": [
    {
     "data": {
      "text/plain": [
       "1"
      ]
     },
     "execution_count": 18,
     "metadata": {},
     "output_type": "execute_result"
    }
   ],
   "source": [
    "Rankings.Δ⁺(Truchon1998₂)"
   ]
  },
  {
   "cell_type": "markdown",
   "metadata": {},
   "source": [
    "## Выводы"
   ]
  },
  {
   "cell_type": "markdown",
   "metadata": {},
   "source": [
    "Видно, что результат (искомая оптимальная перестановка) --- один и тот же в обоих\n",
    "вариантах (`Q` и `V` одинаковы), различаются лишь точные значения оптимального\n",
    "и достигаемого минимумов."
   ]
  },
  {
   "cell_type": "code",
   "execution_count": 19,
   "metadata": {},
   "outputs": [
    {
     "name": "stdout",
     "output_type": "stream",
     "text": [
      "[1, 2, 3, 4, 5, 6, 7, 8, 10, 11, 9, 13, 12, 14, 15]\n",
      "[1, 2, 3, 4, 5, 6, 7, 8, 10, 11, 9, 13, 12, 14, 15]"
     ]
    }
   ],
   "source": [
    "println(Q)\n",
    "print(V)"
   ]
  },
  {
   "cell_type": "markdown",
   "metadata": {},
   "source": [
    "При этом полученный результат не совпадает с приводимым в статье, хотя его\n",
    "правильность подтверждается выводом состояния «облегчённой» матрицы потерь\n",
    "после перестановки строк/столбцов)."
   ]
  }
 ],
 "metadata": {
  "kernelspec": {
   "display_name": "Julia 1.4.1",
   "language": "julia",
   "name": "julia-1.4"
  },
  "language_info": {
   "file_extension": ".jl",
   "mimetype": "application/julia",
   "name": "julia",
   "version": "1.4.1"
  }
 },
 "nbformat": 4,
 "nbformat_minor": 4
}
