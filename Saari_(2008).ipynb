{
 "cells": [
  {
   "cell_type": "markdown",
   "metadata": {},
   "source": [
    "# Saari (2008)"
   ]
  },
  {
   "cell_type": "markdown",
   "metadata": {},
   "source": [
    "Saari, D.G. **Disposing Dictators, Demystifying Voting Paradoxes.** *Cambridge University Press,* 2008. ([URL](https://www.cambridge.org/core/books/disposing-dictators-demystifying-voting-paradoxes/explaining-all-voting-paradoxes/7001DC1697CBA2A3592C5F7C93E13EF4))"
   ]
  },
  {
   "cell_type": "markdown",
   "metadata": {},
   "source": [
    "Для преобразования записи набора ранжирований используется пакет [Rankings.jl](https://github.com/vaa-msu/Rankings.jl)."
   ]
  },
  {
   "cell_type": "code",
   "execution_count": 1,
   "metadata": {},
   "outputs": [],
   "source": [
    "using Rankings"
   ]
  },
  {
   "cell_type": "markdown",
   "metadata": {},
   "source": [
    "Данный пример можно упрощённо ввести как `ranking\"ABCDEF\" ⦸ ranking\"BCDEFA\" ⦸ ranking\"CDEFAB\"`,\n",
    "но можно также просто скопировать строки ранжирований непосредственно из (электронного)\n",
    "источника -- реализация макроса `@ranking` это позволяет, -- тем самым минимизируя вероятность появления ошибок ввода:"
   ]
  },
  {
   "cell_type": "code",
   "execution_count": 2,
   "metadata": {},
   "outputs": [
    {
     "data": {
      "text/plain": [
       "6×6 Array{Int64,2}:\n",
       "  0  -1   1   1   1   1\n",
       "  1   0  -1  -1  -1  -1\n",
       " -1   1   0  -3  -3  -3\n",
       " -1   1   3   0  -3  -3\n",
       " -1   1   3   3   0  -3\n",
       " -1   1   3   3   3   0"
      ]
     },
     "execution_count": 2,
     "metadata": {},
     "output_type": "execute_result"
    }
   ],
   "source": [
    "S₆⁽³⁾ = ranking\"Ann ≻ Barb ≻ Connie ≻ Deanna ≻ Elaine ≻ Fred\"⦸\n",
    "        ranking\"Barb ≻ Connie ≻ Deanna ≻ Elaine ≻ Fred ≻ Ann\"⦸\n",
    "        ranking\"Connie ≻ Deanna ≻ Elaine ≻ Fred ≻ Ann ≻ Barb\""
   ]
  },
  {
   "cell_type": "markdown",
   "metadata": {},
   "source": [
    "Обозначение для «облегчённой» матрицы потерь выбрано с таким расчётом, чтобы далее можно было\n",
    "работать с аналогичными матрицами, а по их именам было понятно, каким наборам ранжирований\n",
    "они соответствуют. В данном случае (`S₆⁽³⁾`) речь идёт о шести альтернативах и трёх ранжированиях."
   ]
  },
  {
   "cell_type": "markdown",
   "metadata": {},
   "source": [
    "> Здесь наглядно проявляется преимущество Julia по работе с нестандартно именуемыми переменными\n",
    "> и новыми вводимыми операциями. По сути, Julia является первым языком, где к многообразию существующих\n",
    "> символов (в том числе -- и математических) создатели подошли довольно аккуратно, предоставив пользователям\n",
    "> хотя и ограниченную, но невиданную ранее свободу выражения своих пожеланий."
   ]
  },
  {
   "cell_type": "markdown",
   "metadata": {},
   "source": [
    "Количества отрицательных величин в строках (сверху вниз) и столбцах (слева направо):"
   ]
  },
  {
   "cell_type": "code",
   "execution_count": 3,
   "metadata": {},
   "outputs": [
    {
     "name": "stdout",
     "output_type": "stream",
     "text": [
      "([1, 4, 4, 3, 2, 1], [4, 1, 1, 2, 3, 4])"
     ]
    }
   ],
   "source": [
    "print(Rankings.negs(S₆⁽³⁾))"
   ]
  },
  {
   "cell_type": "markdown",
   "metadata": {},
   "source": [
    "Номера позиций в перестановке строк и перестановке столбцов по возрастанию количеств отрицательных величин в них. При этом в строках отрицательные величины должны располагаться «неубывающим» образом (иначе их никак не расположить над главной диагональю), поэтому для проверки строчной перестановки её надо будет использовать в обратном порядке."
   ]
  },
  {
   "cell_type": "code",
   "execution_count": 4,
   "metadata": {},
   "outputs": [
    {
     "name": "stdout",
     "output_type": "stream",
     "text": [
      "([1, 6, 5, 4, 2, 3], [2, 3, 4, 5, 1, 6])"
     ]
    }
   ],
   "source": [
    "print(sortperm.(Rankings.negs(S₆⁽³⁾)))"
   ]
  },
  {
   "cell_type": "markdown",
   "metadata": {},
   "source": [
    "Воздействие «столбцовой» перестановки на «облегчённую» матрицу потерь:"
   ]
  },
  {
   "cell_type": "code",
   "execution_count": 5,
   "metadata": {},
   "outputs": [
    {
     "data": {
      "text/plain": [
       "6×6 Array{Int64,2}:\n",
       "  0  -1  -1  -1   1  -1\n",
       "  1   0  -3  -3  -1  -3\n",
       "  1   3   0  -3  -1  -3\n",
       "  1   3   3   0  -1  -3\n",
       " -1   1   1   1   0   1\n",
       "  1   3   3   3  -1   0"
      ]
     },
     "execution_count": 5,
     "metadata": {},
     "output_type": "execute_result"
    }
   ],
   "source": [
    "TC = sortperm(Rankings.col_negs(S₆⁽³⁾));\n",
    "S₆⁽³⁾[TC,TC]"
   ]
  },
  {
   "cell_type": "markdown",
   "metadata": {},
   "source": [
    "Воздействие обращённой «строчной» перестановки на «облегчённую» матрицу потерь:"
   ]
  },
  {
   "cell_type": "code",
   "execution_count": 6,
   "metadata": {},
   "outputs": [
    {
     "data": {
      "text/plain": [
       "6×6 Array{Int64,2}:\n",
       "  0   1  -3  -3  -3  -1\n",
       " -1   0  -1  -1  -1   1\n",
       "  3   1   0  -3  -3  -1\n",
       "  3   1   3   0  -3  -1\n",
       "  3   1   3   3   0  -1\n",
       "  1  -1   1   1   1   0"
      ]
     },
     "execution_count": 6,
     "metadata": {},
     "output_type": "execute_result"
    }
   ],
   "source": [
    "TR = reverse(sortperm(Rankings.row_negs(S₆⁽³⁾)));\n",
    "S₆⁽³⁾[TR,TR]"
   ]
  },
  {
   "cell_type": "markdown",
   "metadata": {},
   "source": [
    "Обе перестановки находятся в «одном шаге» от (единственной) оптимальной, потому что в первом случае можно поменять местами позиции 5 и 6, а во втором -- позиции 1 и 2; в результате получается одна и та же перестановка: `[2,3,4,5,6,1]`."
   ]
  },
  {
   "cell_type": "code",
   "execution_count": 7,
   "metadata": {},
   "outputs": [
    {
     "data": {
      "text/plain": [
       "6×6 Array{Int64,2}:\n",
       "  0  -1  -1  -1  -1   1\n",
       "  1   0  -3  -3  -3  -1\n",
       "  1   3   0  -3  -3  -1\n",
       "  1   3   3   0  -3  -1\n",
       "  1   3   3   3   0  -1\n",
       " -1   1   1   1   1   0"
      ]
     },
     "execution_count": 7,
     "metadata": {},
     "output_type": "execute_result"
    }
   ],
   "source": [
    "S₆⁽³⁾[[2,3,4,5,6,1],[2,3,4,5,6,1]]"
   ]
  },
  {
   "cell_type": "markdown",
   "metadata": {},
   "source": [
    "«Избавиться» от единственного отрицательного значения под диагональю не удастся, поскольку все строчные и столбцовые количества отрицательных величин -- ненулевые, т.е., никогда (ни при какой перестановке строк/столбцов) в матрице не будет строки (и столбца), где вообще бы не было отрицательных значений, -- в том числе и в первой позиции. Это наглядно видно по трём приводимым вариантам «перетасовки» строк/столбцов «облегчённой» матрицы потерь."
   ]
  }
 ],
 "metadata": {
  "kernelspec": {
   "display_name": "Julia 1.4.1",
   "language": "julia",
   "name": "julia-1.4"
  },
  "language_info": {
   "file_extension": ".jl",
   "mimetype": "application/julia",
   "name": "julia",
   "version": "1.4.1"
  }
 },
 "nbformat": 4,
 "nbformat_minor": 4
}
